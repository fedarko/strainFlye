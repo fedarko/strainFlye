{
 "cells": [
  {
   "cell_type": "markdown",
   "id": "349b04fa",
   "metadata": {},
   "source": [
    "# Tutorial: applying strainFlye to a subset of the SheepGut dataset\n",
    "\n",
    "This tutorial walk you through some of the analyses that strainFlye can perform.\n",
    "\n",
    "Here we will be using the same SheepGut dataset that is used in our paper, but feel free to follow along with another dataset.\n",
    "\n",
    "The pipeline takes as input two primary types of data:\n",
    "\n",
    "1. A __set of reads__ (in FASTA / FASTQ format) generated using PacBio HiFi sequencing.\n",
    "\n",
    "2. An __assembly graph__ (in GFA 1 format) produced by running metaFlye (or another assembler) on these reads.\n",
    "\n",
    "Please see the paper's \"Data access\" section for details about acquiring both of these types of data for the SheepGut dataset."
   ]
  },
  {
   "cell_type": "markdown",
   "id": "dd0e5fc0",
   "metadata": {},
   "source": [
    "## The commands available through strainFlye"
   ]
  },
  {
   "cell_type": "code",
   "execution_count": 3,
   "id": "12d6ff7f",
   "metadata": {},
   "outputs": [
    {
     "name": "stdout",
     "output_type": "stream",
     "text": [
      "Usage: strainFlye [OPTIONS] COMMAND [ARGS]...\r\n",
      "\r\n",
      "  Pipeline for the analysis of rare mutations in metagenomes.\r\n",
      "\r\n",
      "  Please consult https://github.com/fedarko/strainFlye if you have any\r\n",
      "  questions, comments, etc. about strainFlye. Thank you for using this tool!\r\n",
      "\r\n",
      "Options:\r\n",
      "  -h, --help  Show this message and exit.\r\n",
      "\r\n",
      "Commands:\r\n",
      "  align  Aligns reads to contigs, then filters this alignment.\r\n",
      "  call   [+] Naïve mutation calling and diversity index computation.\r\n",
      "  fdr    FDR estimation and fixing for contigs' mutation calls.\r\n",
      "  utils  [+] Various utility commands provided with strainFlye.\r\n"
     ]
    }
   ],
   "source": [
    "!strainFlye"
   ]
  },
  {
   "cell_type": "markdown",
   "id": "ee835ce7",
   "metadata": {},
   "source": [
    "## 0. Convert the assembly graph to a FASTA file of contigs\n",
    "\n",
    "**You can skip this step if:** you already have a FASTA file exactly matching the sequences of the segments in your GFA file.\n",
    "\n",
    "Our assembly graph (the GFA file) contains the sequences of the contigs that we will use in many downstream analyses, but it will be helpful to have a FASTA file that just describes these contigs' sequences (independent of the assembly graph topology).\n",
    "\n",
    "There are some [bash one-liners](https://www.biostars.org/p/169516/#169530) you can use to convert a GFA file to a FASTA file, but strainFlye also provides a utility command (`strainFlye utils gfa-to-fasta`) to do this for you. We'll use this here. (Our solution may be a bit slower than a bash one-liner, but it performs some useful sanity checking on the GFA file.)"
   ]
  },
  {
   "cell_type": "code",
   "execution_count": 10,
   "id": "26d90dab",
   "metadata": {},
   "outputs": [
    {
     "name": "stdout",
     "output_type": "stream",
     "text": [
      "--------\n",
      "strainFlye utils gfa-to-fasta @ 0.00 sec: Starting...\n",
      "Input GFA file: /Poppy/mfedarko/misc-data/sheepgut_flye_big_2.8_graph.gfa\n",
      "Output FASTA file: /Poppy/mfedarko/sftests/tutorial-output/sheepgut_contigs.fasta\n",
      "--------\n",
      "strainFlye utils gfa-to-fasta @ 11.77 sec: Done.\n",
      "Output FASTA file contains 78,793 sequences.\n"
     ]
    }
   ],
   "source": [
    "!strainFlye utils gfa-to-fasta \\\n",
    "    --graph /Poppy/mfedarko/misc-data/sheepgut_flye_big_2.8_graph.gfa \\\n",
    "    --output-fasta /Poppy/mfedarko/sftests/tutorial-output/sheepgut_contigs.fasta"
   ]
  },
  {
   "cell_type": "markdown",
   "id": "6ef3ba35",
   "metadata": {},
   "source": [
    "## 1. Performing alignment\n",
    "\n",
    "**You can skip this step if:** you already have a BAM file representing an alignment of reads to contigs, and this BAM file does not contain secondary alignments / partially-mapped reads / overlapping supplementary alignments (these all may cause problems in downstream analyses).\n",
    "\n",
    "We'll need to align reads back to these contigs. The resulting alignment will be used in pretty much all downstream steps, so it's important to make sure that it is of good quality.\n",
    "\n",
    "The `strainFlye align` command produces a BAM file corresponding to such an alignment. \n",
    "\n",
    "Note that this command, in particular, may take a while to run. Sequence alignment is computationally expensive! On our cluster, `strainFlye align` ran on the full SheepGut dataset in 62,941.21 seconds (aka about 17.5 hours)."
   ]
  },
  {
   "cell_type": "code",
   "execution_count": 4,
   "id": "281fd11c",
   "metadata": {},
   "outputs": [
    {
     "name": "stdout",
     "output_type": "stream",
     "text": [
      "Usage: strainFlye align [OPTIONS] READS...\r\n",
      "\r\n",
      "  Aligns reads to contigs, then filters this alignment.\r\n",
      "\r\n",
      "  Files of reads should be in the FASTA or FASTQ formats; GZIP'd files are\r\n",
      "  allowed.\r\n",
      "\r\n",
      "  This command involves multiple steps, including:\r\n",
      "\r\n",
      "    1) Align reads to contigs (using minimap2) to generate a SAM file\r\n",
      "    2) Convert this SAM file to a sorted and indexed BAM file\r\n",
      "    3) Filter overlapping supplementary alignments within this BAM file\r\n",
      "    4) Filter partially-mapped reads within this BAM file\r\n",
      "\r\n",
      "  Note that we only sort the alignment file once, although we do re-index it\r\n",
      "  after the two filtering steps. This decision is motivated by\r\n",
      "  https://www.biostars.org/p/131333/#131335.\r\n",
      "\r\n",
      "Options:\r\n",
      "  -c, --contigs PATH          FASTA file of contigs to which reads will be\r\n",
      "                              aligned.  [required]\r\n",
      "  -g, --graph PATH            GFA 1-formatted file describing an assembly\r\n",
      "                              graph of the contigs. This is used in the\r\n",
      "                              \"filter partially-mapped reads\" step to make the\r\n",
      "                              filter less strict for reads mapped to adjacent\r\n",
      "                              contigs in the graph. This isn't required; if it\r\n",
      "                              isn't passed, adjacent contigs will not be\r\n",
      "                              considered in this filter.  [default: (no\r\n",
      "                              graph)]\r\n",
      "  -o, --output-dir DIRECTORY  Directory to which an output BAM file and BAM\r\n",
      "                              index file will be written. Some temporary files\r\n",
      "                              may also be written to this directory.\r\n",
      "                              [required]\r\n",
      "  --verbose / --no-verbose    Display extra details for each contig during\r\n",
      "                              alignment filtering.  [default: no-verbose]\r\n",
      "  -h, --help                  Show this message and exit.\r\n"
     ]
    }
   ],
   "source": [
    "!strainFlye align"
   ]
  },
  {
   "cell_type": "code",
   "execution_count": 4,
   "id": "15c619f2",
   "metadata": {
    "scrolled": true
   },
   "outputs": [],
   "source": [
    "!strainFlye align \\\n",
    "    # We can use the FASTA file we just generated above.\n",
    "    --contigs /Poppy/mfedarko/sftests/tutorial-output/sheepgut_contigs.fasta \\\n",
    "    --graph /Poppy/mfedarko/misc-data/sheepgut_flye_big_2.8_graph.gfa \\\n",
    "    --output-dir /Poppy/mfedarko/sftests/tutorial-output/alignment \\\n",
    "    # Reads file(s) are specified here, after all of the other parameters:\n",
    "    /Poppy/mkolmogo/sheep_meta/data/sheep_poop_CCS_dedup.fastq.gz \\\n",
    "    /Poppy/mkolmogo/sheep_meta/data/ccs_sequel_II/*.fasta.qz"
   ]
  },
  {
   "cell_type": "markdown",
   "id": "c7c58de0",
   "metadata": {},
   "source": [
    "This generates a BAM file (`final.bam`) and BAM index file (`final.bam.bai`) in the specified output directory.\n",
    "\n",
    "We can use this BAM file for many analyses downstream—the first of these will be mutation calling."
   ]
  },
  {
   "cell_type": "markdown",
   "id": "aa6400ea",
   "metadata": {},
   "source": [
    "## 2. Perform naïve mutation calling; estimate and fix FDRs\n",
    "\n",
    "**You can skip this step if:** you already have a VCF file indicating single-nucleotide variant calls in these contigs.\n",
    "\n",
    "The analyses downstream of this step take as input a set of identified single-nucleotide mutations (or, if you prefer to use different terminology, \"called variants\", \"called SNVs\", ...) in which we have some confidence. Here we call mutations and estimate their false-discovery rates using the target-decoy approach, as described in our paper.\n",
    "\n",
    "### 2.1. $p$-mutations and $r$-mutations?\n",
    "\n",
    "strainFlye supports calling two basic types of mutations: $p$-mutations and $r$-mutations. The docs explain the difference between these two types best:"
   ]
  },
  {
   "cell_type": "code",
   "execution_count": 5,
   "id": "5755853e",
   "metadata": {},
   "outputs": [
    {
     "name": "stdout",
     "output_type": "stream",
     "text": [
      "Usage: strainFlye call [OPTIONS] COMMAND [ARGS]...\r\n",
      "\r\n",
      "  [+] Naïve mutation calling and diversity index computation.\r\n",
      "\r\n",
      "  Consider a position \"pos\" in a contig. A given read with a (mis)match\r\n",
      "  operation at \"pos\" must have one of four nucleotides (A, C, G, T) aligned to\r\n",
      "  pos. We represent these nucleotides' counts at pos as follows:\r\n",
      "\r\n",
      "      N1 = # reads of the most-common aligned nucleotide at pos,\r\n",
      "      N2 = # reads of the second-most-common aligned nucleotide at pos,\r\n",
      "      N3 = # reads of the third-most-common aligned nucleotide at pos,\r\n",
      "      N4 = # reads of the fourth-most-common aligned nucleotide at pos.\r\n",
      "\r\n",
      "  (We break ties arbitrarily.)\r\n",
      "\r\n",
      "  strainFlye supports two types of naïve mutation calling based on these\r\n",
      "  counts: p-mutations and r-mutations. These are described below.\r\n",
      "\r\n",
      "  p-mutations (naïve percentage-based mutation calling)\r\n",
      "  -----------------------------------------------------\r\n",
      "\r\n",
      "  This takes as input some percentage p in the range (0%, 50%]. Define\r\n",
      "  freq(pos) = N2 / (N1 + N2 + N3 + N4). This value, constrained to the range\r\n",
      "  [0%, 50%], is an estimate of the mutation frequency of this position. We\r\n",
      "  classify pos as a p-mutation if freq(pos) ≥ p, AND if N2 ≥ the --min-alt-pos\r\n",
      "  parameter (an integer representing a minimum number of reads that must\r\n",
      "  support the alternate nucleotide).\r\n",
      "\r\n",
      "  r-mutations (naïve read-count-based mutation calling)\r\n",
      "  -----------------------------------------------------\r\n",
      "\r\n",
      "  This takes as input some integer r > 0. We classify pos as an r-mutation if\r\n",
      "  N2 ≥ r.\r\n",
      "\r\n",
      "  Diversity indices\r\n",
      "  -----------------\r\n",
      "\r\n",
      "  Later on in the pipeline, we'll need to select a decoy contig in order to\r\n",
      "  perform FDR estimation for our called mutations. Contigs with low diversity\r\n",
      "  indices may indicate promising decoy contigs; so, for the sake of\r\n",
      "  convenience, both commands output this information.\r\n",
      "\r\n",
      "Options:\r\n",
      "  -h, --help  Show this message and exit.\r\n",
      "\r\n",
      "Commands:\r\n",
      "  p-mutation  Calls p-mutations and computes diversity indices.\r\n",
      "  r-mutation  Calls r-mutations and computes diversity indices.\r\n"
     ]
    }
   ],
   "source": [
    "!strainFlye call"
   ]
  },
  {
   "cell_type": "markdown",
   "id": "26f90176",
   "metadata": {},
   "source": [
    "### 2.2. More details about $p$-mutation calling...\n",
    "\n",
    "Let's view the documentation of the $p$-mutation-calling command, in particular, in more detail:"
   ]
  },
  {
   "cell_type": "code",
   "execution_count": 6,
   "id": "834869e8",
   "metadata": {
    "scrolled": false
   },
   "outputs": [
    {
     "name": "stdout",
     "output_type": "stream",
     "text": [
      "Usage: strainFlye call p-mutation [OPTIONS]\r\n",
      "\r\n",
      "  Calls p-mutations and computes diversity indices.\r\n",
      "\r\n",
      "  The primary parameter for this command is the lower bound of p, defined by\r\n",
      "  --min-p. The VCF output will include \"mutations\" for all positions that pass\r\n",
      "  this (likely very low) threshold, but this VCF should be adjusted using the\r\n",
      "  utilities contained in the \"strainFlye fdr\" module.\r\n",
      "\r\n",
      "Options:\r\n",
      "  -c, --contigs PATH              FASTA file of contigs in which to naïvely\r\n",
      "                                  call mutations.  [required]\r\n",
      "  -b, --bam PATH                  BAM file representing an alignment of reads\r\n",
      "                                  to contigs.  [required]\r\n",
      "  --min-p INTEGER RANGE           Minimum value of p for which to call\r\n",
      "                                  p-mutations. This is scaled up by 100 (i.e.\r\n",
      "                                  the default of 50 corresponds to 50 / 100 =\r\n",
      "                                  0.5%) in order to bypass floating-point\r\n",
      "                                  precision issues.  [default: 50; 0<x<=5000]\r\n",
      "  --min-alt-pos INTEGER RANGE     In order for us to call a p-mutation at a\r\n",
      "                                  position, this position's alternate\r\n",
      "                                  nucleotide must be supported by at least\r\n",
      "                                  this many reads.  [default: 2; x>=1]\r\n",
      "  --div-index-p-list TEXT         List of values of p for which we'll compute\r\n",
      "                                  diversity indices. These should all be\r\n",
      "                                  separated by commas; and, as with --min-p,\r\n",
      "                                  these are scaled up by 100. Please don't use\r\n",
      "                                  commas as thousands separators.  [default:\r\n",
      "                                  50,100,200,500,1000,2500,5000]\r\n",
      "  -m, --min-read-number INTEGER RANGE\r\n",
      "                                  Parameter that impacts the minimum\r\n",
      "                                  (mis)match coverage needed in order to\r\n",
      "                                  consider \"counting\" a position / mutation\r\n",
      "                                  towards the diversity index. Given a value\r\n",
      "                                  of p (converted to the range [0, 0.5)), a\r\n",
      "                                  position must have a coverage of at least\r\n",
      "                                  (--min-read-number / p) in order to be\r\n",
      "                                  \"sufficiently covered\" and thus counted\r\n",
      "                                  towards the diversity index.  [default: 5;\r\n",
      "                                  x>=1]\r\n",
      "  -ov, --output-vcf FILE          Filepath to which an output VCF file\r\n",
      "                                  (describing the called mutations) will be\r\n",
      "                                  written.  [required]\r\n",
      "  -od, --output-diversity-indices FILE\r\n",
      "                                  Filepath to which an output tab-separated\r\n",
      "                                  values (TSV) file describing diversity\r\n",
      "                                  indices for the values of p given in --div-\r\n",
      "                                  index-p-list will be written.  [required]\r\n",
      "  --verbose / --no-verbose        Display extra details for each contig while\r\n",
      "                                  running.  [default: no-verbose]\r\n",
      "  -h, --help                      Show this message and exit.\r\n"
     ]
    }
   ],
   "source": [
    "!strainFlye call p-mutation"
   ]
  },
  {
   "cell_type": "markdown",
   "id": "c58ac637",
   "metadata": {},
   "source": [
    "#### Understanding the output of these commands\n",
    "\n",
    "Both of these commands take as input a *minimum* version of their threshold (either `--min-p` or `--min-r`). We only need to specify a minimum threshold because, if some position _pos_ is classified as a $p$-mutation for $p = p_0$, this implies that _pos_ is also a $p$-mutation for all $p \\geq p_0$. This also holds for $r$-mutations.\n",
    "\n",
    "These commands each output:\n",
    "\n",
    "1. A __VCF ([variant call format](https://samtools.github.io/hts-specs/VCFv4.3.pdf)) file__ describing all mutations called naïvely across the contigs, based on the minimum $p$ or $r$ threshold set.\n",
    "\n",
    "\n",
    "2. A __TSV ([tab separated values](https://en.wikipedia.org/wiki/Tab-separated_values)) file__ describing the contigs' computed diversity indices, for various values of $p$ or $r$ (controllable using the `--div-index-p-list` or `--div-index-r-list` parameters). \n",
    "\n",
    "The default minimum value of $p$ (or $r$) used in these commands is fairly low. As you might expect, using such a low threshold for calling a position as a mutation will yield many false positives: we will definitely identify some real mutations, but also many \"false\" mutations that occur as the result of sequencing errors, alignment errors, etc. Viewed another way, the __false discovery rate (FDR)__ (defined as the ratio of false positives to total true + false positives) of our identified mutations will probably be unacceptably high.\n",
    "\n",
    "After we run this command, we'll use strainFlye's FDR estimation and fixing functionality to address this problem. The second output of these commands (the TSV file containing diversity index information) will help us with that.\n",
    "\n",
    "### 2.3. Running $p$-mutation calling for $p \\geq 0.15\\%$\n",
    "\n",
    "This matches what we used for Figure 2 in the paper."
   ]
  },
  {
   "cell_type": "code",
   "execution_count": null,
   "id": "37bd0100",
   "metadata": {},
   "outputs": [],
   "source": [
    "!strainflye call p-mutation \\\n",
    "    --contigs /Poppy/mfedarko/sftests/tutorial-output/sheepgut_contigs.fasta \\\n",
    "    --bam /Poppy/mfedarko/sftests/tutorial-output/alignment/final.bam \\\n",
    "    --min-p 15 \\\n",
    "    --output-vcf /Poppy/mfedarko/sftests/tutorial-output/p0.15.vcf \\\n",
    "    --output-diversity-indices /Poppy/mfedarko/sftests/tutorial-output/p-div-indices.tsv"
   ]
  },
  {
   "cell_type": "markdown",
   "id": "6ce21462",
   "metadata": {},
   "source": [
    "### 2.4. Estimating and fixing FDRs using the target-decoy approach\n",
    "\n",
    "We now have both our initial mutation calls (which, as we've discussed, probably have a high FDR) and information about out contigs' diversity indices. We will use the __target-decoy approach__ to attempt to estimate and thus control the FDR of our mutation calls.\n",
    "\n",
    "As discussed in our paper, we will select from one of our $C$ contigs a __decoy contig__ (a.k.a. a decoy genome), and compute a mutation rate for it ($\\text{rate}_{\\text{decoy}}$). For each of the other $C - 1$ __target contigs__, we can estimate the FDR of identified mutations in this contig as $\\dfrac{\\text{rate}_{\\text{decoy}}}{\\text{rate}_{\\text{target}}}$.\n",
    "\n",
    "The first hurdle we'll need to surmount is selecting a decoy contig. What would make a good decoy contig? We can define some rules:\n",
    "\n",
    "- A low number of \"real\" mutations\n",
    "- High coverage\n",
    "- Long length\n",
    "\n",
    "The first two of these criteria match up pretty well with the diversity indices we computed earlier, which—unlike the naïve mutations described in the VCF file—take coverage information into account.\n",
    "\n",
    "We can provide these diversity indices to strainFlye's `fdr` command, and it will use them to select a suitable-seeming decoy contig from our dataset. This command will then estimate and fix mutation calls' FDRs (to a default maximum FDR of $1\\%$)."
   ]
  },
  {
   "cell_type": "code",
   "execution_count": 7,
   "id": "5253166f",
   "metadata": {},
   "outputs": [
    {
     "name": "stdout",
     "output_type": "stream",
     "text": [
      "Usage: strainflye fdr [OPTIONS]\r\n",
      "\r\n",
      "  FDR estimation and fixing for contigs' mutation calls.\r\n",
      "\r\n",
      "  Does this using the target-decoy approach (TDA). Given a set of C contigs,\r\n",
      "  we select a \"decoy contig\" with relatively few called mutations. We then\r\n",
      "  compute a mutation rate for this decoy contig, and use this mutation rate\r\n",
      "  (along with the mutation rates of the other C - 1 contigs) to estimate the\r\n",
      "  FDRs of all of the other contigs.\r\n",
      "\r\n",
      "  By varying p or r, we can plot a FDR curve for each of the C - 1 non-decoy\r\n",
      "  (target) contigs; and, given a fixed FDR, we can choose the \"optimal\" p or r\r\n",
      "  parameter for each contig that results in a FDR ≤ this FDR.\r\n",
      "\r\n",
      "Options:\r\n",
      "  -v, --vcf PATH                  VCF file describing naïvely called p- or\r\n",
      "                                  r-mutations.  [required]\r\n",
      "  -di, --diversity-indices PATH   TSV file describing the diversity indices of\r\n",
      "                                  a set of contigs. Used to automatically\r\n",
      "                                  select a decoy contig. If this is specified,\r\n",
      "                                  a decoy contig cannot be specified.\r\n",
      "  -dc, --decoy-contig TEXT        Name of a contig to use as the decoy for FDR\r\n",
      "                                  estimation. If this is specified, a file of\r\n",
      "                                  diversity indices cannot be specified.\r\n",
      "  --decoy-context TEXT            List of \"context-dependent\" types of\r\n",
      "                                  mutations to limit the computation of\r\n",
      "                                  mutation rates in the decoy to.This should\r\n",
      "                                  be a comma-separated list: valid entries\r\n",
      "                                  (case insensitive) are \"CP2\", \"Nonsyn\", and\r\n",
      "                                  \"Nonsense\". You can include multiple types\r\n",
      "                                  in the list to combine them.You can also not\r\n",
      "                                  specify anything in order to not apply any\r\n",
      "                                  context-dependent limits, and consider the\r\n",
      "                                  entire decoy contig at once.  [default: CP2]\r\n",
      "  --fdr INTEGER RANGE             False discovery rate at which identified\r\n",
      "                                  mutations will be fixed. This is interpreted\r\n",
      "                                  as a scaled-up percentage, such that f = N\r\n",
      "                                  corresponds to (N / 100)% (i.e. the default\r\n",
      "                                  of f = 100 is 1%). No upper limit is imposed\r\n",
      "                                  since estimated FDRs can technically exceed\r\n",
      "                                  (10000 / 100)% = 100% in uncommon cases.\r\n",
      "                                  [default: 100; x>0]\r\n",
      "  -hp, --highfreq-threshold-p INTEGER RANGE\r\n",
      "                                  highFrequency threshold: p-mutations with a\r\n",
      "                                  mutation rate (freq(pos)) greater than or\r\n",
      "                                  equal to this are considered \"indisputable,\"\r\n",
      "                                  and will not be included in FDR estimation.\r\n",
      "                                  Like the values of p used as parameters to\r\n",
      "                                  \"strainFlye call p-mutation\", this is in the\r\n",
      "                                  range (0, 5000], such that h = N corresponds\r\n",
      "                                  to (N / 100)%.  [default: 500; 0<x<=5000]\r\n",
      "  -hr, --highfreq-threshold-r INTEGER RANGE\r\n",
      "                                  highFrequency threshold: r-mutations with an\r\n",
      "                                  alternate allele read coverage greater than\r\n",
      "                                  or equal to this are considered\r\n",
      "                                  indisputable, and will not be included in\r\n",
      "                                  FDR estimation.  [default: 100; x>0]\r\n",
      "  -of, --output-fdr-info FILE     Filepath to which an output tab-separated\r\n",
      "                                  values (TSV) file describing estimated FDRs\r\n",
      "                                  will be written. Each row corresponds to a\r\n",
      "                                  different (non-decoy) contig; each column\r\n",
      "                                  but the last corresponds to a value of p or\r\n",
      "                                  r. This rightmost column lists the \"optimal\"\r\n",
      "                                  value of p or r for this contig at the fixed\r\n",
      "                                  FDR.  [required]\r\n",
      "  -ov, --output-vcf FILE          Filepath to which an output VCF file\r\n",
      "                                  (describing the called mutations at the\r\n",
      "                                  optimal p or r value for each contig) will\r\n",
      "                                  be written. These mutations will be a subset\r\n",
      "                                  of those described in the input VCF file.\r\n",
      "                                  [required]\r\n",
      "  -h, --help                      Show this message and exit.\r\n"
     ]
    }
   ],
   "source": [
    "!strainflye fdr"
   ]
  },
  {
   "cell_type": "code",
   "execution_count": null,
   "id": "a481c482",
   "metadata": {},
   "outputs": [],
   "source": [
    "!strainflye fdr \\\n",
    "    --vcf /Poppy/mfedarko/sftests/tutorial-output/p0.15.vcf \\\n",
    "    --diversity-indices /Poppy/mfedarko/sftests/tutorial-output/p-div-indices.tsv \\\n",
    "    --output-fdr-info /Poppy/mfedarko/sftests/tutorial-output/p-fdr-info.tsv \\\n",
    "    --output-vcf /Poppy/mfedarko/sftests/tutorial-output/p-fdr-1-pct-fixed.vcf"
   ]
  },
  {
   "cell_type": "markdown",
   "id": "e1d3a6b6",
   "metadata": {},
   "source": [
    "(**From Marcus:** this is as far as the tutorial goes now. Given FDR estimates, we can identify the optimal threshold ($p$ or $r$) value for each contig, then use that to refine the naïve mutation calls into a more reliable VCF file. From there, replicating all of the downstream analyses (hotspots, phasing, ...) should be straightforward.)"
   ]
  },
  {
   "cell_type": "code",
   "execution_count": null,
   "id": "9643c09f",
   "metadata": {},
   "outputs": [],
   "source": []
  }
 ],
 "metadata": {
  "kernelspec": {
   "display_name": "Python 3 (ipykernel)",
   "language": "python",
   "name": "python3"
  },
  "language_info": {
   "codemirror_mode": {
    "name": "ipython",
    "version": 3
   },
   "file_extension": ".py",
   "mimetype": "text/x-python",
   "name": "python",
   "nbconvert_exporter": "python",
   "pygments_lexer": "ipython3",
   "version": "3.7.11"
  }
 },
 "nbformat": 4,
 "nbformat_minor": 5
}
