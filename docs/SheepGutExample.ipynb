{
 "cells": [
  {
   "cell_type": "markdown",
   "id": "349b04fa",
   "metadata": {},
   "source": [
    "# Tutorial: applying strainFlye to the SheepGut dataset\n",
    "\n",
    "This tutorial will walk you through some of the analyses that strainFlye can perform.\n",
    "\n",
    "Here we will be using the same SheepGut dataset that is used in our paper, but feel free to follow along with another dataset.\n",
    "\n",
    "The pipeline takes as input two primary types of data:\n",
    "\n",
    "1. A __set of reads__ (in FASTA / FASTQ format).\n",
    "\n",
    "2. A __set of contigs__ (in FASTA format) assembled from these reads.\n",
    "\n",
    "## Details about the inputs\n",
    "\n",
    "**Regarding reads:** We designed strainFlye in the context of PacBio Circular Consensus Sequencing (CCS) \"HiFi\" reads ([Wenger & Peluso _et al._, 2019](https://www.nature.com/articles/s41587-019-0217-9)). However, in theory it should still work with other reasonably long and accurate reads.\n",
    "\n",
    "**Regarding contigs:** We don't impose any restriction on the assembler you use to construct these. We designed strainFlye in the context of [metaFlye](https://github.com/fenderglass/Flye) ([Kolmogorov _et al._, 2020](https://www.nature.com/articles/s41587-019-0217-9)) output, but it should work with the outputs of other HiFi assemblers.\n",
    "\n",
    "## The SheepGut dataset\n",
    "\n",
    "Please see the paper's \"Data access\" section for details about acquiring both of these types of data for the SheepGut dataset.\n",
    "\n",
    "Note that the \"contigs\" we use for the SheepGut datatset really correspond to edge sequences in the `assembly_graph.gfa` file produced by metaFlye -- in general, these may be slightly different from the file of contigs / scaffolds in the `assembly.fasta` file produced by metaFlye: see [Flye's manual](https://github.com/fenderglass/Flye/blob/flye/docs/USAGE.md#output) for more information. (You could use either type of sequence with strainFlye, although I personally recommend using edges -- it's useful to have context about where exactly in the assembly graph a sequence is, and things like gaps in scaffolds will cause strainFlye to complain.)"
   ]
  },
  {
   "cell_type": "markdown",
   "id": "dd0e5fc0",
   "metadata": {},
   "source": [
    "## Introduction\n",
    "\n",
    "Let's take care of a few things before the tutorial starts.\n",
    "\n",
    "### Installing strainFlye\n",
    "\n",
    "Before following along with this tutorial, we assume that you have already installed strainFlye (and have activated the corresponding conda environment). Please see [strainFlye's README](https://github.com/fedarko/strainFlye) for installation instructions.\n",
    "\n",
    "### What commands are available through strainFlye?"
   ]
  },
  {
   "cell_type": "code",
   "execution_count": 1,
   "id": "12d6ff7f",
   "metadata": {
    "scrolled": true
   },
   "outputs": [
    {
     "name": "stdout",
     "output_type": "stream",
     "text": [
      "Usage: strainFlye [OPTIONS] COMMAND [ARGS]...\r\n",
      "\r\n",
      "  Pipeline for the analysis of rare mutations in metagenomes.\r\n",
      "\r\n",
      "  Please consult https://github.com/fedarko/strainFlye if you have any\r\n",
      "  questions, comments, etc. about strainFlye. Thank you for using this tool!\r\n",
      "\r\n",
      "Options:\r\n",
      "  -h, --help  Show this message and exit.\r\n",
      "\r\n",
      "Commands:\r\n",
      "  align   Align reads to contigs, and filter the resulting alignment.\r\n",
      "  call    [+] Call mutations in contigs naïvely & compute diversity indices.\r\n",
      "  fdr     [+] Estimate and fix FDRs for contigs' naïve mutation calls.\r\n",
      "  spot    [+] Identify putative mutational hotspots or coldspots in contigs.\r\n",
      "  smooth  [+] Create and assemble smoothed and virtual reads.\r\n",
      "  link    [+] Create link graphs in order to show mutations' co-occurrences.\r\n",
      "  utils   [+] Various utility commands provided with strainFlye.\r\n"
     ]
    }
   ],
   "source": [
    "!strainFlye"
   ]
  },
  {
   "cell_type": "markdown",
   "id": "4558f6d4",
   "metadata": {},
   "source": [
    "### Importing and configuring some utilities\n",
    "\n",
    "You shouldn't need to actually do any programming to use strainFlye, but we'll be using Python to perform some plotting and other analyses throughout this tutorial—we'll import some useful packages here to reduce clutter in this notebook.\n",
    "\n",
    "(If you prefer, you could of course use another language instead of Python.)"
   ]
  },
  {
   "cell_type": "code",
   "execution_count": 9,
   "id": "9a094e0e",
   "metadata": {},
   "outputs": [],
   "source": [
    "import os\n",
    "import time\n",
    "import skbio\n",
    "import pandas as pd\n",
    "from math import floor\n",
    "from matplotlib import pyplot\n",
    "\n",
    "# Make our plots look pretty\n",
    "# (this is the same style we use throughout most of the paper's figures)\n",
    "pyplot.style.use(\"ggplot\")"
   ]
  },
  {
   "cell_type": "markdown",
   "id": "ee835ce7",
   "metadata": {},
   "source": [
    "## 0. Convert the assembly graph GFA file to a FASTA file of contigs\n",
    "\n",
    "**You can skip this step if:** you already have a FASTA file describing contigs in your assembly graph.\n",
    "\n",
    "Our assembly graph (the GFA file) contains the sequences of the contigs that we will use in many downstream analyses, but we'll need to have a FASTA file that just describes these contigs' sequences (independent of the assembly graph topology).\n",
    "\n",
    "There are some [bash one-liners](https://www.biostars.org/p/169516/#169530) you can use to convert a GFA 1 file to a FASTA file, but strainFlye also provides a utility command (`strainFlye utils gfa-to-fasta`) to do this for you. We'll use this here. (Our solution may be a bit slower than a bash one-liner, but it performs some useful sanity checking on the GFA file.)"
   ]
  },
  {
   "cell_type": "code",
   "execution_count": 46,
   "id": "26d90dab",
   "metadata": {},
   "outputs": [
    {
     "name": "stdout",
     "output_type": "stream",
     "text": [
      "--------\n",
      "strainFlye utils gfa-to-fasta @ 0.00 sec: Starting...\n",
      "Input GFA file: /Poppy/mfedarko/misc-data/sheepgut_flye_big_2.8_graph.gfa\n",
      "Output FASTA file: /Poppy/mfedarko/sftests/tutorial-output/sheepgut_contigs.fasta\n",
      "--------\n",
      "strainFlye utils gfa-to-fasta @ 14.97 sec: Done.\n",
      "Output FASTA file contains 78,793 sequences.\n"
     ]
    }
   ],
   "source": [
    "!strainFlye utils gfa-to-fasta \\\n",
    "    --graph /Poppy/mfedarko/misc-data/sheepgut_flye_big_2.8_graph.gfa \\\n",
    "    --output-fasta /Poppy/mfedarko/sftests/tutorial-output/sheepgut_contigs.fasta"
   ]
  },
  {
   "cell_type": "markdown",
   "id": "6ef3ba35",
   "metadata": {},
   "source": [
    "## 1. Align reads to contigs; filter the resulting alignment\n",
    "\n",
    "**You can skip this step if:** you already have a BAM file representing an alignment of reads to contigs, and this BAM file does not contain secondary alignments / partially-mapped reads / overlapping supplementary alignments (these all may cause problems in downstream analyses).\n",
    "\n",
    "We'll need to align reads back to these contigs. The resulting alignment, and/or the mutations that we call from it, will be used in pretty much all downstream steps—so it's important to make sure that it is of good quality!\n",
    "\n",
    "The `strainFlye align` command uses minimap2 to perform alignment, and then does some extra filtering on the resulting alignment.\n",
    "\n",
    "Note that this command, in particular, may take a while to run. Sequence alignment is computationally expensive! On our cluster, `strainFlye align` ran on the full SheepGut dataset in 62,941.21 seconds (aka about 17.5 hours)."
   ]
  },
  {
   "cell_type": "code",
   "execution_count": 5,
   "id": "281fd11c",
   "metadata": {},
   "outputs": [
    {
     "name": "stdout",
     "output_type": "stream",
     "text": [
      "Usage: strainFlye align [OPTIONS] READS...\r\n",
      "\r\n",
      "  Align reads to contigs, and filter the resulting alignment.\r\n",
      "\r\n",
      "  Files of reads should be in the FASTA or FASTQ formats; GZIP'd files are\r\n",
      "  allowed.\r\n",
      "\r\n",
      "  This command involves multiple steps, including:\r\n",
      "\r\n",
      "    1) Align reads to contigs (using minimap2) to generate a SAM file\r\n",
      "    2) Convert this SAM file to a sorted and indexed BAM file\r\n",
      "    3) Filter overlapping supplementary alignments (OSAs) from this BAM file\r\n",
      "    4) Filter partially-mapped reads from this BAM file\r\n",
      "\r\n",
      "  Note that we only sort the alignment file once, although we do re-index it\r\n",
      "  after the two filtering steps. This decision is motivated by\r\n",
      "  https://www.biostars.org/p/131333/#131335.\r\n",
      "\r\n",
      "Options:\r\n",
      "  -c, --contigs PATH              FASTA file of contigs to which reads will be\r\n",
      "                                  aligned.  [required]\r\n",
      "  -g, --graph PATH                GFA 1-formatted file describing an assembly\r\n",
      "                                  graph of the contigs. This is used in the\r\n",
      "                                  \"filter partially-mapped reads\" step to make\r\n",
      "                                  the filter less strict for reads mapped to\r\n",
      "                                  adjacent contigs in the graph. This isn't\r\n",
      "                                  required; if it isn't passed, adjacent\r\n",
      "                                  contigs will not be considered in this\r\n",
      "                                  filter.  [default: (no graph)]\r\n",
      "  -o, --output-dir DIRECTORY      Directory to which an output BAM file\r\n",
      "                                  (final.bam) and BAM index file will be\r\n",
      "                                  written. Some temporary files will also be\r\n",
      "                                  written to this directory.  [required]\r\n",
      "  --rm-tmp-bam / --no-rm-tmp-bam  Remove temporary (before filtering, and\r\n",
      "                                  after just filtering OSAs) BAM files, to\r\n",
      "                                  reduce space requirements.  [default: rm-\r\n",
      "                                  tmp-bam]\r\n",
      "  --verbose / --no-verbose        Display extra details for each contig during\r\n",
      "                                  alignment filtering.  [default: no-verbose]\r\n",
      "  -h, --help                      Show this message and exit.\r\n"
     ]
    }
   ],
   "source": [
    "!strainFlye align"
   ]
  },
  {
   "cell_type": "code",
   "execution_count": 4,
   "id": "15c619f2",
   "metadata": {
    "scrolled": true
   },
   "outputs": [],
   "source": [
    "!strainFlye align \\\n",
    "    # We can use the FASTA file we just generated above.\n",
    "    --contigs /Poppy/mfedarko/sftests/tutorial-output/sheepgut_contigs.fasta \\\n",
    "    --graph /Poppy/mfedarko/misc-data/sheepgut_flye_big_2.8_graph.gfa \\\n",
    "    --output-dir /Poppy/mfedarko/sftests/tutorial-output/alignment \\\n",
    "    # Reads file(s) are specified here, after all of the other parameters:\n",
    "    /Poppy/mkolmogo/sheep_meta/data/sheep_poop_CCS_dedup.fastq.gz \\\n",
    "    /Poppy/mkolmogo/sheep_meta/data/ccs_sequel_II/*.fasta.gz"
   ]
  },
  {
   "cell_type": "markdown",
   "id": "c7c58de0",
   "metadata": {},
   "source": [
    "This generates a BAM file (`final.bam`) and BAM index file (`final.bam.bai`) in the specified output directory.\n",
    "\n",
    "We can use this BAM file for many analyses downstream—the first of these will be mutation calling."
   ]
  },
  {
   "cell_type": "markdown",
   "id": "fbdf1e5d",
   "metadata": {},
   "source": [
    "## 1.5. Optional: filter the FASTA file in order to focus on \"long\" contigs\n",
    "\n",
    "We just aligned our dataset's reads against *all* contigs in the assembly graph. This is standard practice (see, e.g., [this tutorial](https://astrobiomike.github.io/genomics/metagen_anvio#mapping-our-reads-to-the-assembly-they-built)); aligning reads against all contigs probably yields a more accurate alignment than just aligning reads against a subset of these contigs (although proving if this is \"best practice\" or not is a challenging question, and one that I will sidestep right now).\n",
    "\n",
    "However, now that we have this alignment, we don't necessarily need to perform mutation calling, phasing, etc. on all contigs (although, if you want to, we could!). To speed up the rest of this tutorial, we will focus solely on the \"long\" contigs in this dataset: here, we will define a contig as \"long\" if its length is **at least 1 Mbp**. In theory, these long contigs represent putative metagenome-assembled genomes (MAGs).\n",
    "\n",
    "Of course, if you prefer, you could apply more sophisticated criteria to pick which contigs to focus on—maybe you'd like to also focus on contigs with high coverages, or maybe on contigs with good [CheckM](https://www.ncbi.nlm.nih.gov/pmc/articles/PMC4484387/) completeness or contamination values. Or maybe you'd like to keep considering all contigs in the full dataset! Your decision should depend on your goals, and your dataset.\n",
    "\n",
    "In any case, how do we \"focus on\" certain contigs? **We can filter our FASTA file to a subset of contigs present in the full dataset**, and use this filtered FASTA file for all downstream analyses. As an example of this, we will use Python (in particular, with the [scikit-bio](http://scikit-bio.org/) library) to filter our FASTA file to all long contigs."
   ]
  },
  {
   "cell_type": "code",
   "execution_count": 15,
   "id": "3ac9fae3",
   "metadata": {},
   "outputs": [
    {
     "name": "stdout",
     "output_type": "stream",
     "text": [
      "Found 468 contigs with lengths ≥ 1,000,000 bp. Took 12.30 sec.\n"
     ]
    }
   ],
   "source": [
    "# Produce a filtered FASTA file containing only contigs >= 1 Mbp long\n",
    "# (This uses scikit-bio; see http://scikit-bio.org/ for more details.)\n",
    "\n",
    "input_contigs_fp = \"/Poppy/mfedarko/sftests/tutorial-output/sheepgut_contigs.fasta\"\n",
    "output_contigs_fp = \"/Poppy/mfedarko/sftests/tutorial-output/sheepgut_contigs_atleast_1Mbp.fasta\"\n",
    "len_threshold = 1000000\n",
    "\n",
    "t0 = time.time()\n",
    "num_long_contigs = 0\n",
    "with open(output_contigs_fp, \"w\") as of:\n",
    "    for contig in skbio.io.read(input_contigs_fp, format=\"fasta\", constructor=skbio.DNA):\n",
    "        if len(contig) >= len_threshold:\n",
    "            skbio.io.write(contig, format=\"fasta\", into=of)\n",
    "            num_long_contigs += 1\n",
    "t1 = time.time()\n",
    "\n",
    "print(f\"Found {num_long_contigs:,} contigs with lengths \\u2265 {len_threshold:,} bp. Took {t1 - t0:,.2f} sec.\")"
   ]
  },
  {
   "cell_type": "markdown",
   "id": "388366fb",
   "metadata": {},
   "source": [
    "The remainder of this tutorial will focus on these 468 long contigs.\n",
    "\n",
    "In any case, now we can get on to some more interesting stuff!"
   ]
  },
  {
   "cell_type": "markdown",
   "id": "aa6400ea",
   "metadata": {},
   "source": [
    "## 2. Perform naïve mutation calling, then estimate and fix mutation calls' FDRs\n",
    "\n",
    "**You can skip this step if:** You already have a BCF file describing single-nucleotide, non-multi-allelic mutations in your contigs.\n",
    "\n",
    "The analyses downstream of this step (hotspot/coldspot identification, phasing) take as input a set of identified single-nucleotide mutations (or, if you prefer to use different terminology, \"called variants\", \"called SNVs\", ...) in which we have some confidence. How does strainFlye identify these mutations?\n",
    "\n",
    "There are a few steps (as our paper describes). First, we will **naïvely call mutations** using a simple threshold-based method (referred to as \"NaiveFreq\" in the paper). We'll then **estimate the false-discovery rates of the mutations called for each contig** using the target-decoy approach, and then adjust the called mutations to **fix the false-discovery rates of these mutation calls** below a specified threshold.\n",
    "\n",
    "### 2.1. $p$-mutations and $r$-mutations?\n",
    "\n",
    "So, our first step will be performing this simple threshold-based calling. What do we mean by \"threshold\" here?\n",
    "\n",
    "strainFlye supports calling two basic types of mutations: $p$-mutations and $r$-mutations. The docs explain the difference between these two types best:"
   ]
  },
  {
   "cell_type": "code",
   "execution_count": 16,
   "id": "5755853e",
   "metadata": {},
   "outputs": [
    {
     "name": "stdout",
     "output_type": "stream",
     "text": [
      "Usage: strainFlye call [OPTIONS] COMMAND [ARGS]...\r\n",
      "\r\n",
      "  [+] Call mutations in contigs naïvely & compute diversity indices.\r\n",
      "\r\n",
      "  Consider a position \"pos\" in a contig. A given read with a (mis)match\r\n",
      "  operation at \"pos\" must have one of four nucleotides (A, C, G, T) aligned to\r\n",
      "  pos. We represent these nucleotides' counts at pos as follows:\r\n",
      "\r\n",
      "      N1 = # reads of the most-common aligned nucleotide at pos,\r\n",
      "      N2 = # reads of the second-most-common aligned nucleotide at pos,\r\n",
      "      N3 = # reads of the third-most-common aligned nucleotide at pos,\r\n",
      "      N4 = # reads of the fourth-most-common aligned nucleotide at pos.\r\n",
      "\r\n",
      "  (We break ties arbitrarily.)\r\n",
      "\r\n",
      "  strainFlye supports two types of naïve mutation calling based on these\r\n",
      "  counts: p-mutations and r-mutations. These are described below.\r\n",
      "\r\n",
      "  p-mutations (naïve percentage-based mutation calling)\r\n",
      "  -----------------------------------------------------\r\n",
      "\r\n",
      "  This takes as input some percentage p in the range (0%, 50%]. Define\r\n",
      "  freq(pos) = N2 / (N1 + N2 + N3 + N4). This value, constrained to the range\r\n",
      "  [0%, 50%], is an estimate of the mutation frequency of this position. We\r\n",
      "  classify pos as a p-mutation if freq(pos) ≥ p, AND if N2 ≥ the --min-alt-pos\r\n",
      "  parameter (an integer representing a minimum number of reads that must\r\n",
      "  support the alternate nucleotide).\r\n",
      "\r\n",
      "  r-mutations (naïve read-count-based mutation calling)\r\n",
      "  -----------------------------------------------------\r\n",
      "\r\n",
      "  This takes as input some integer r > 0. We classify pos as an r-mutation if\r\n",
      "  N2 ≥ r.\r\n",
      "\r\n",
      "  Diversity indices\r\n",
      "  -----------------\r\n",
      "\r\n",
      "  Later on in the pipeline, we'll need to select a decoy contig in order to\r\n",
      "  perform FDR estimation for our called mutations. Contigs with low diversity\r\n",
      "  indices may indicate promising decoy contigs; so, for the sake of\r\n",
      "  convenience, both commands output this information.\r\n",
      "\r\n",
      "Options:\r\n",
      "  -h, --help  Show this message and exit.\r\n",
      "\r\n",
      "Commands:\r\n",
      "  p-mutation  Call p-mutations and compute diversity indices.\r\n",
      "  r-mutation  Call r-mutations and compute diversity indices.\r\n"
     ]
    }
   ],
   "source": [
    "!strainFlye call"
   ]
  },
  {
   "cell_type": "markdown",
   "id": "c58ac637",
   "metadata": {},
   "source": [
    "### 2.2. Understanding these (sub)commands\n",
    "\n",
    "First off, note that `strainFlye call` doesn't do anything besides show help info if you run it by itself. This is because, unlike `strainFlye align`, `strainFlye call` has two subcommands: `p-mutation` and `r-mutation`. Which of these you use will depend on how you want to naïvely call mutations. You can invoke one of these subcommands by writing out the full chain of commands: for example, `strainFlye call p-mutation`.\n",
    "\n",
    "#### 2.2.1. Input and output\n",
    "\n",
    "Probably the most important parameter at this step is the *minimum threshold*. Both of these subcommands, `strainFlye call p-mutation` and `strainFlye call r-mutation`, take as input a minimum version of their corresponding threshold (either `--min-p` or `--min-r`).\n",
    "\n",
    "These commands each output:\n",
    "\n",
    "1. A __BCF (binary [variant call format](https://samtools.github.io/hts-specs/VCFv4.3.pdf)) file__ describing all mutations called naïvely across the contigs, based on the minimum $p$ or $r$ threshold set (`--min-p` or `--min-r`).\n",
    "\n",
    "2. A __TSV ([tab separated values](https://en.wikipedia.org/wiki/Tab-separated_values)) file__ describing the contigs' computed diversity indices, for various values of $p$ or $r$ (controllable using the `--div-index-p-list` or `--div-index-r-list` parameters). Long story short, diversity indices indicate how many of a contig's (sufficiently-covered) positions have called mutations: in general, higher diversity indices mean more mutations.\n",
    "\n",
    "#### 2.2.2. Interpreting the output\n",
    "\n",
    "The default minimum value of $p$ (or $r$) used in these commands is fairly low. As you might expect, using such a low threshold for calling a position as a mutation will yield many false positives: we will almost certainly identify many real mutations, but also many \"false\" mutations that occur as the result of sequencing errors, alignment errors, etc. Viewed another way, the __false discovery rate (FDR)__ (defined as the ratio of false positives to total true + false positives) of the mutation calls generated at this step will probably be unacceptably high.\n",
    "\n",
    "So, after we run this command, we'll use strainFlye's FDR estimation and fixing functionality to try to address this problem. This will involve adjusting the \"minimum\" value of $p$ or $r$ used for each contig to reduce the FDR as needed. To emphasize the point, **you probably shouldn't use the naïvely called mutations at this step for downstream analyses without first estimating and fixing FDRs** (unless you know what you're doing).\n",
    "\n",
    "### 2.3. Naïvely call $p$-mutations ($p = 0.15\\%$) and compute diversity indices for various values of $p$\n",
    "\n",
    "Now that we know what we're doing, we're ready to call mutations and compute diversity indices! We'll do $p$-mutation calling at a minimum $p$ of $0.15\\%$, which matches what we used for Figure 2 in the paper. The default diversity index values of $p$ (ranging from $0.5\\%$ to $50\\%$) should be good for us.\n",
    "\n",
    "Note that this command will take a while—we need to check each position in the alignment for each of the input contigs. We will use the `--verbose` flag to display some extra information about the status of each contig while this command is running, to make the wait more tolerable."
   ]
  },
  {
   "cell_type": "code",
   "execution_count": 17,
   "id": "c394d9b1",
   "metadata": {},
   "outputs": [
    {
     "name": "stdout",
     "output_type": "stream",
     "text": [
      "Usage: strainFlye call p-mutation [OPTIONS]\r\n",
      "\r\n",
      "  Call p-mutations and compute diversity indices.\r\n",
      "\r\n",
      "  The primary parameter for this command is the lower bound of p, defined by\r\n",
      "  --min-p. The BCF output will include \"mutations\" for all positions that pass\r\n",
      "  this (likely very low) threshold, but this BCF should be adjusted using the\r\n",
      "  utilities contained in the \"strainFlye fdr\" module.\r\n",
      "\r\n",
      "Options:\r\n",
      "  -c, --contigs PATH              FASTA file of contigs in which to naïvely\r\n",
      "                                  call mutations. All contigs in this FASTA\r\n",
      "                                  file should also be contained in the BAM\r\n",
      "                                  file; however, if some contigs in the BAM\r\n",
      "                                  file are not included in this FASTA file, we\r\n",
      "                                  won't perform any calling on these absent\r\n",
      "                                  contigs.  [required]\r\n",
      "  -b, --bam PATH                  Sorted and indexed BAM file representing an\r\n",
      "                                  alignment of reads to contigs.  [required]\r\n",
      "  --min-p INTEGER RANGE           Minimum value of p for which to call\r\n",
      "                                  p-mutations. This is scaled up by 100 (i.e.\r\n",
      "                                  the default of 50 corresponds to 50 / 100 =\r\n",
      "                                  0.5%) in order to bypass floating-point\r\n",
      "                                  precision issues.  [default: 50; 0<x<=5000]\r\n",
      "  --min-alt-pos INTEGER RANGE     In order for us to call a p-mutation at a\r\n",
      "                                  position, this position's alternate\r\n",
      "                                  nucleotide must be supported by at least\r\n",
      "                                  this many reads.  [default: 2; x>=1]\r\n",
      "  --div-index-p-list TEXT         List of values of p for which we'll compute\r\n",
      "                                  diversity indices. These should all be\r\n",
      "                                  separated by commas; and, as with --min-p,\r\n",
      "                                  these are scaled up by 100. Please don't use\r\n",
      "                                  commas as thousands separators.  [default:\r\n",
      "                                  50,100,200,500,1000,2500,5000]\r\n",
      "  -m, --min-read-number INTEGER RANGE\r\n",
      "                                  Parameter that impacts the minimum\r\n",
      "                                  (mis)match coverage needed in order to\r\n",
      "                                  consider \"counting\" a position / mutation\r\n",
      "                                  towards the diversity index. Given a value\r\n",
      "                                  of p (converted to the range [0, 0.5)), a\r\n",
      "                                  position must have a coverage of at least\r\n",
      "                                  (--min-read-number / p) in order to be\r\n",
      "                                  \"sufficiently covered\" and thus counted\r\n",
      "                                  towards the diversity index.  [default: 5;\r\n",
      "                                  x>=1]\r\n",
      "  -o, --output-dir DIRECTORY      Directory to which an output BCF file\r\n",
      "                                  (describing the called mutations), BCF index\r\n",
      "                                  file, and diversity index TSV file will be\r\n",
      "                                  written. Some temporary files will also be\r\n",
      "                                  written to this directory.  [required]\r\n",
      "  --verbose / --no-verbose        Display extra details for each contig while\r\n",
      "                                  running.  [default: no-verbose]\r\n",
      "  -h, --help                      Show this message and exit.\r\n"
     ]
    }
   ],
   "source": [
    "!strainFlye call p-mutation"
   ]
  },
  {
   "cell_type": "code",
   "execution_count": null,
   "id": "56fde95d",
   "metadata": {},
   "outputs": [],
   "source": [
    "!strainFlye call p-mutation \\\n",
    "    --contigs /Poppy/mfedarko/sftests/tutorial-output/sheepgut_contigs_atleast_1Mbp.fasta \\\n",
    "    --bam /Poppy/mfedarko/sftests/tutorial-output/alignment/final.bam \\\n",
    "    --min-p 15 \\\n",
    "    --output-dir /Poppy/mfedarko/sftests/tutorial-output/call-p15 \\\n",
    "    --verbose"
   ]
  },
  {
   "cell_type": "markdown",
   "id": "6ce21462",
   "metadata": {},
   "source": [
    "### 2.4. Analyzing diversity indices: the search for a decoy contig\n",
    "\n",
    "We now have both our initial mutation calls (which, as we've discussed, probably have a high FDR) and information about our contigs' diversity indices. We will use the __target-decoy approach__ to attempt to estimate and thus control the FDR of our mutation calls. This is done by the `strainFlye fdr estimate` and `strainFlye fdr fix` commands.\n",
    "\n",
    "As discussed in our paper, we can select—out of one of our $C$ contigs—a __decoy contig__ (a.k.a. a decoy genome), and compute a mutation rate for it ($\\text{rate}_{\\text{decoy}}$). For each of the other $C - 1$ __target contigs__, we can estimate the FDR of identified mutations in this contig as $\\dfrac{\\text{rate}_{\\text{decoy}}}{\\text{rate}_{\\text{target}}}$.\n",
    "\n",
    "If you'd like, we could go through the diversity indices produced by `strainFlye call p-mutation` ourselves, in an attempt to select a reasonable-seeming decoy contig. **[This notebook](https://nbviewer.org/github/fedarko/strainFlye/blob/main/docs/AnalyzingDiversityIndices.ipynb)** demonstrates this sort of process. However, `strainFlye fdr estimate` can also do this sort of thing automatically; so, in order to not make this tutorial longer than it already is, we'll move on to FDR estimation."
   ]
  },
  {
   "cell_type": "markdown",
   "id": "176733d5",
   "metadata": {},
   "source": [
    "### 2.5. Estimating FDRs using the target-decoy approach\n",
    "\n",
    "The optional notebook discussed above shows that `edge_6104` is probably a good decoy contig, so we could if desired just pass it to `strainFlye fdr estimate` using that command's `-dc` or `--decoy-contig` option. However, to illustrate another option, we'll instead pass our diversity index TSV file to `strainFlye fdr estimate` and let it do the job of selecting a decoy contig. (Spoiler alert: it'll select `edge_6104` anyway.)\n",
    "\n",
    "#### 2.5.1. Sidenote: strainFlye's algorithm for automatically selecting a decoy contig\n",
    "\n",
    "If `strainFlye fdr estimate` is provided a diversity index file, it will automatically select a decoy contig using the following _ad hoc_ algorithm:\n",
    "\n",
    "1\\. Filter to all contigs whose lengths and average coverages meet the `--decoy-min-length` and `--decoy-min-average-coverage` thresholds, respectively. Define $C$ as the set of all contigs that meet these thresholds (so, $|C|$ indicates the number of contigs in $C$).\n",
    "\n",
    "  - If $|C| = 0$, raise an error (the length and coverage thresholds should probably be lowered for this dataset).\n",
    "  - If $|C| = 1$, select the lone contig in $C$ as the decoy.\n",
    "  - If $|C| = 2$, move on to the next steps.\n",
    "\n",
    "\n",
    "2\\. Define $D$ as the set of all diversity index columns in the input file (representing computed diversity indices at different values of $p$ or $r$), where at least two of the $C$ passing contigs have a diversity index defined for this column.\n",
    "\n",
    "  - If $|D| = 0$, raise an error.\n",
    "  - Otherwise, move on to the next steps.\n",
    "\n",
    "\n",
    "3\\. For each column in $D$:\n",
    "\n",
    "  - Compute the minimum ($\\text{min}$) and maximum ($\\text{max}$) diversity index in this column, only considering contigs in $C$.\n",
    "  - In the strange case where $\\text{min} = \\text{max}$, ignore this column and move on to the next. (If all columns in $D$ have this problem, raise an error.)\n",
    "  - Otherwise, assign each contig in $C$ a score for this column.\n",
    "    - For each contig with a defined diversity index in this column, assign a score using [linear interpolation](https://en.wikipedia.org/wiki/Linear_interpolation). Higher scores indicate that a contig seems \"more\" diverse. If the diversity index of this contig in this column is defined as $x$, then this contig's score for this column, $\\text{score}(x)$, is defined as $\\text{score}(x) = \\dfrac{x - \\text{min}}{\\text{max} - \\text{min}}$.\n",
    "    - For each contig with an undefined diversity index in this column, penalize this contig by assigning it a score of 1.\n",
    "    \n",
    "    \n",
    "4\\. Sum scores across all columns in $D$ for each contig in $C$. **Select the contig with the lowest score sum as the decoy contig**, breaking ties arbitrarily.\n",
    "\n",
    "\n",
    "For more details about how this works, please see the source code for the [`autoselect_decoy()` function](https://github.com/fedarko/strainFlye/blob/main/strainflye/fdr_utils.py#L100)."
   ]
  },
  {
   "cell_type": "code",
   "execution_count": 6,
   "id": "5253166f",
   "metadata": {},
   "outputs": [
    {
     "name": "stdout",
     "output_type": "stream",
     "text": [
      "Usage: strainFlye fdr [OPTIONS] COMMAND [ARGS]...\r\n",
      "\r\n",
      "  [+] Estimate and fix FDRs for contigs' naïve mutation calls.\r\n",
      "\r\n",
      "Options:\r\n",
      "  -h, --help  Show this message and exit.\r\n",
      "\r\n",
      "Commands:\r\n",
      "  estimate  Estimate the FDRs of contigs' naïve mutation calls.\r\n",
      "  fix       Fix contigs' naïve mutation calls' FDRs to an upper limit.\r\n"
     ]
    }
   ],
   "source": [
    "!strainFlye fdr"
   ]
  },
  {
   "cell_type": "code",
   "execution_count": 3,
   "id": "001dbf01",
   "metadata": {
    "scrolled": true
   },
   "outputs": [
    {
     "name": "stdout",
     "output_type": "stream",
     "text": [
      "Usage: strainFlye fdr estimate [OPTIONS]\r\n",
      "\r\n",
      "  Estimate the FDRs of contigs' naïve mutation calls.\r\n",
      "\r\n",
      "  We do this using the target-decoy approach (TDA). Given a set of C contigs,\r\n",
      "  we select a \"decoy contig\" with relatively few called mutations. We then\r\n",
      "  compute a mutation rate for this decoy contig, and use this mutation rate\r\n",
      "  (along with the mutation rates of the other C - 1 \"target\" contigs) to\r\n",
      "  estimate the FDRs of all of these target contigs' mutation calls.\r\n",
      "\r\n",
      "  We can produce multiple FDR estimates for a single target contig's calls by\r\n",
      "  varying the p or r threshold used (from the --min-p or --min-r threshold\r\n",
      "  used to generate the input BCF file, up to the --high-p or --high-r\r\n",
      "  threshold given here). Using this information (and information about the\r\n",
      "  numbers of mutations called per megabase), we can plot an FDR curve for a\r\n",
      "  given target contig's mutation calls.\r\n",
      "\r\n",
      "Options:\r\n",
      "  -c, --contigs PATH              FASTA file of contigs.  [required]\r\n",
      "  --bam PATH                      Sorted and indexed BAM file representing an\r\n",
      "                                  alignment of reads to contigs.  [required]\r\n",
      "  --bcf PATH                      Indexed BCF file describing naïvely called\r\n",
      "                                  p- or r-mutations in the FASTA file's\r\n",
      "                                  contigs.  [required]\r\n",
      "  -di, --diversity-indices PATH   TSV file describing the diversity indices of\r\n",
      "                                  a set of contigs. Used to automatically\r\n",
      "                                  select a decoy contig. This option is\r\n",
      "                                  mutually exclusive with --decoy-contig.\r\n",
      "                                  [default: (nothing)]\r\n",
      "  -dc, --decoy-contig TEXT        Name of a specific contig to use as the\r\n",
      "                                  decoy contig for FDR estimation. This option\r\n",
      "                                  is mutually exclusive with --diversity-\r\n",
      "                                  indices.  [default: (nothing)]\r\n",
      "  -dctx, --decoy-contexts [Full|CP2|Tv|Nonsyn|Nonsense|CP2Tv|CP2Nonsyn|CP2Nonsense|TvNonsyn|TvNonsense|CP2TvNonsense]\r\n",
      "                                  \"Context-dependent\" types of positions\r\n",
      "                                  and/or mutations to which the computation of\r\n",
      "                                  mutation rates in the decoy contig will be\r\n",
      "                                  limited. The \"Full\" option will consider the\r\n",
      "                                  entire decoy contig; all other options will\r\n",
      "                                  limit the computation to certain types of\r\n",
      "                                  positions and/or potential mutations. (CP2\r\n",
      "                                  will focus on positions in the second codon\r\n",
      "                                  position of genes predicted in the decoy\r\n",
      "                                  contig using Prodigal; Nonsyn will focus on\r\n",
      "                                  potential nonsynonymous mutations in these\r\n",
      "                                  genes; Nonsense will focus on potential\r\n",
      "                                  nonsense mutations in these genes; and Tv\r\n",
      "                                  will focus on potential transversion\r\n",
      "                                  mutations.) You can specify this option\r\n",
      "                                  multiple times to generate multiple sets of\r\n",
      "                                  FDR estimates.  [default: CP2]\r\n",
      "  -hp, --high-p INTEGER RANGE     (Only applies if the input BCF file\r\n",
      "                                  describes p-mutations.) p-mutations with a\r\n",
      "                                  mutation rate (freq(pos)) greater than or\r\n",
      "                                  equal to this are considered \"indisputable,\"\r\n",
      "                                  and will not be included in FDR estimation.\r\n",
      "                                  Like the values of p used as parameters to\r\n",
      "                                  \"strainFlye call p-mutation\", this is in the\r\n",
      "                                  range (0, 5000], such that h = N corresponds\r\n",
      "                                  to (N / 100)%. Corresponds to the\r\n",
      "                                  \"highFrequency\" threshold mentioned in the\r\n",
      "                                  paper.  [default: 500; 0<x<=5000]\r\n",
      "  -hr, --high-r INTEGER RANGE     (Only applies if the input BCF file\r\n",
      "                                  describes r-mutations.) r-mutations with an\r\n",
      "                                  alternate nucleotide read coverage greater\r\n",
      "                                  than or equal to this are considered\r\n",
      "                                  indisputable, and will not be included in\r\n",
      "                                  FDR estimation.  [default: 100; x>0]\r\n",
      "  -dml, --decoy-min-length INTEGER RANGE\r\n",
      "                                  Minimum length of a potential decoy contig.\r\n",
      "                                  Only used if --diversity-indices is\r\n",
      "                                  specified.  [default: 1000000; x>0]\r\n",
      "  -dmac, --decoy-min-average-coverage FLOAT RANGE\r\n",
      "                                  Minimum average (mis)match coverage of a\r\n",
      "                                  potential decoy contig. Only used if\r\n",
      "                                  --diversity-indices is specified.  [default:\r\n",
      "                                  500; x>0]\r\n",
      "  -o, --output-dir DIRECTORY      Directory to which TSV files describing the\r\n",
      "                                  estimated FDRs and numbers of naïvely called\r\n",
      "                                  mutations per megabase will be written. In\r\n",
      "                                  all TSV files, rows correspond to target\r\n",
      "                                  contigs and columns correspond to p or r\r\n",
      "                                  values. We will generate one estimated FDR\r\n",
      "                                  TSV file for every time --decoy-context is\r\n",
      "                                  specified, and just one number-of-naïvely-\r\n",
      "                                  called-mutations-per-megabase file.\r\n",
      "                                  [required]\r\n",
      "  -h, --help                      Show this message and exit.\r\n"
     ]
    }
   ],
   "source": [
    "!strainFlye fdr estimate"
   ]
  },
  {
   "cell_type": "code",
   "execution_count": 7,
   "id": "a481c482",
   "metadata": {
    "scrolled": true
   },
   "outputs": [
    {
     "name": "stdout",
     "output_type": "stream",
     "text": [
      "--------\n",
      "strainFlye fdr estimate @ 0.00 sec: Starting...\n",
      "Input contig file: /Poppy/mfedarko/sftests/tutorial-output/sheepgut_contigs_atleast_1Mbp.fasta\n",
      "Input BAM file: /Poppy/mfedarko/sheepgut/main-workflow/output/fully-filtered-and-sorted-aln.bam\n",
      "Input BCF file: /Poppy/mfedarko/sftests/tutorial-output/call-p15/naive-calls.bcf\n",
      "Input diversity indices file: /Poppy/mfedarko/sftests/tutorial-output/call-p15/diversity-indices.tsv\n",
      "Input manually-set decoy contig: None\n",
      "Input decoy contig context-dependent position / mutation type(s): ('Full', 'CP2', 'Tv', 'Nonsyn', 'Nonsense', 'CP2Tv', 'CP2Nonsyn', 'CP2Nonsense', 'TvNonsyn', 'TvNonsense', 'CP2TvNonsense')\n",
      "Input high p threshold (only used if the BCF describes p-mutations): 500\n",
      "Input high r threshold (only used if the BCF describes r-mutations): 100\n",
      "Input min length of a potential decoy contig (only used if diversity indices are specified): 1000000\n",
      "Input min average coverage of a potential decoy contig (only used if diversity indices are specified): 500.0\n",
      "Output directory: /Poppy/mfedarko/sftests/tutorial-output/p15-fdr-info\n",
      "--------\n",
      "strainFlye fdr estimate @ 0.00 sec: Loading and checking FASTA, BAM, and BCF files...\n",
      "strainFlye fdr estimate @ 4.80 sec: The FASTA file describes 468 contig(s).\n",
      "strainFlye fdr estimate @ 4.88 sec: All FASTA contig(s) are included in the BAM file (this BAM file has 78,793 reference(s)).\n",
      "strainFlye fdr estimate @ 19.59 sec: The FASTA file's contig(s) and BCF file's contig(s) match.\n",
      "strainFlye fdr estimate @ 19.59 sec: Also, the input BCF file describes p-mutations (minimum p = 15).\n",
      "strainFlye fdr estimate @ 19.60 sec: The lengths of all contig(s) in the FASTA file match the corresponding lengths in the BAM and BCF files.\n",
      "strainFlye fdr estimate @ 19.60 sec: So far, these files seem good.\n",
      "--------\n",
      "strainFlye fdr estimate @ 19.60 sec: Selecting a decoy contig based on the diversity indices...\n",
      "strainFlye fdr estimate @ 19.61 sec: Selected edge_6104 as the decoy contig.\n",
      "strainFlye fdr estimate @ 19.61 sec: Verified that this decoy contig is present in the FASTA, BAM, and BCF files.\n",
      "strainFlye fdr estimate @ 19.61 sec: (Sorry for doubting you.)\n",
      "--------\n",
      "strainFlye fdr estimate @ 19.61 sec: Determining range of value(s) of p to consider...\n",
      "strainFlye fdr estimate @ 19.61 sec: We'll consider 485 value(s) of p: from 15 to 499.\n",
      "strainFlye fdr estimate @ 19.61 sec: p-mutations for p ≥ 500 will be considered \"indisputable.\"\n",
      "strainFlye fdr estimate @ 19.61 sec: These \"indisputable\" mutations won't be included in the FDR estimation results.\n",
      "--------\n",
      "strainFlye fdr estimate @ 19.61 sec: Computing mutation rates for edge_6104 at these threshold values, for each of the 11 decoy context(s)...\n",
      "strainFlye fdr estimate @ 21.45 sec: At least one of the decoy context(s) requires us to have gene predictions for edge_6104; running Prodigal...\n",
      "-------------------------------------\n",
      "PRODIGAL v2.6.3 [February, 2016]         \n",
      "Univ of Tenn / Oak Ridge National Lab\n",
      "Doug Hyatt, Loren Hauser, et al.     \n",
      "-------------------------------------\n",
      "Request:  Single Genome, Phase:  Training\n",
      "Reading in the sequence(s) to train...1289244 bp seq created, 32.65 pct GC\n",
      "Locating all potential starts and stops...30910 nodes\n",
      "Looking for GC bias in different frames...frame bias scores: 2.68 0.19 0.12\n",
      "Building initial set of genes to train from...done!\n",
      "Creating coding model and scoring nodes...done!\n",
      "Examining upstream regions and training starts...done!\n",
      "-------------------------------------\n",
      "Request:  Single Genome, Phase:  Gene Finding\n",
      "Finding genes in sequence #1 (1289244 bp)...done!\n",
      "strainFlye fdr estimate @ 26.66 sec: Finished running Prodigal! It predicted 1,297 gene(s) in edge_6104.\n",
      "strainFlye fdr estimate @ 27.41 sec: At least one of the decoy context(s) requires us to know \"unreasonable\" positions (where reference and consensus disagree) in edge_6104; going through alignment...\n",
      "strainFlye fdr estimate @ 27.66 sec: Done: identified 0 unreasonable position(s) in edge_6104.\n",
      "strainFlye fdr estimate @ 27.66 sec: Computing mutation rates for decoy context \"CP2\" (1 / 11)...\n",
      "strainFlye fdr estimate @ 27.67 sec: Done computing \"CP2\" mutation rates for edge_6104.\n",
      "strainFlye fdr estimate @ 27.67 sec: Computing mutation rates for decoy context \"CP2Nonsense\" (2 / 11)...\n",
      "strainFlye fdr estimate @ 34.47 sec: Done computing \"CP2Nonsense\" mutation rates for edge_6104.\n",
      "strainFlye fdr estimate @ 34.47 sec: Computing mutation rates for decoy context \"CP2Nonsyn\" (3 / 11)...\n",
      "strainFlye fdr estimate @ 41.87 sec: Done computing \"CP2Nonsyn\" mutation rates for edge_6104.\n",
      "strainFlye fdr estimate @ 41.87 sec: Computing mutation rates for decoy context \"CP2Tv\" (4 / 11)...\n",
      "strainFlye fdr estimate @ 41.88 sec: Done computing \"CP2Tv\" mutation rates for edge_6104.\n",
      "strainFlye fdr estimate @ 41.88 sec: Computing mutation rates for decoy context \"CP2TvNonsense\" (5 / 11)...\n",
      "strainFlye fdr estimate @ 48.67 sec: Done computing \"CP2TvNonsense\" mutation rates for edge_6104.\n",
      "strainFlye fdr estimate @ 48.67 sec: Computing mutation rates for decoy context \"Full\" (6 / 11)...\n",
      "strainFlye fdr estimate @ 48.69 sec: Done computing \"Full\" mutation rates for edge_6104.\n",
      "strainFlye fdr estimate @ 48.69 sec: Computing mutation rates for decoy context \"Nonsense\" (7 / 11)...\n",
      "strainFlye fdr estimate @ 68.39 sec: Done computing \"Nonsense\" mutation rates for edge_6104.\n",
      "strainFlye fdr estimate @ 68.39 sec: Computing mutation rates for decoy context \"Nonsyn\" (8 / 11)...\n",
      "strainFlye fdr estimate @ 89.12 sec: Done computing \"Nonsyn\" mutation rates for edge_6104.\n",
      "strainFlye fdr estimate @ 89.12 sec: Computing mutation rates for decoy context \"Tv\" (9 / 11)...\n",
      "strainFlye fdr estimate @ 89.24 sec: Done computing \"Tv\" mutation rates for edge_6104.\n",
      "strainFlye fdr estimate @ 89.24 sec: Computing mutation rates for decoy context \"TvNonsense\" (10 / 11)...\n",
      "strainFlye fdr estimate @ 108.39 sec: Done computing \"TvNonsense\" mutation rates for edge_6104.\n",
      "strainFlye fdr estimate @ 108.39 sec: Computing mutation rates for decoy context \"TvNonsyn\" (11 / 11)...\n",
      "strainFlye fdr estimate @ 128.86 sec: Done computing \"TvNonsyn\" mutation rates for edge_6104.\n",
      "strainFlye fdr estimate @ 128.89 sec: Done computing mutation rates for all decoy context(s) for edge_6104.\n",
      "--------\n",
      "strainFlye fdr estimate @ 128.89 sec: Computing mutation rates and FDR estimates for the 467 target contig(s)...\n",
      "strainFlye fdr estimate @ 161.04 sec: Done.\n",
      "--------\n",
      "strainFlye fdr estimate @ 161.09 sec: Done.\n"
     ]
    }
   ],
   "source": [
    "!strainFlye fdr estimate \\\n",
    "    --contigs /Poppy/mfedarko/sftests/tutorial-output/sheepgut_contigs_atleast_1Mbp.fasta \\\n",
    "    --bam /Poppy/mfedarko/sheepgut/main-workflow/output/fully-filtered-and-sorted-aln.bam \\\n",
    "    --bcf /Poppy/mfedarko/sftests/tutorial-output/call-p15/naive-calls.bcf \\\n",
    "    --diversity-indices /Poppy/mfedarko/sftests/tutorial-output/call-p15/diversity-indices.tsv \\\n",
    "    --decoy-contexts Full \\\n",
    "    --decoy-contexts CP2 \\\n",
    "    --decoy-contexts Tv \\\n",
    "    --decoy-contexts Nonsyn \\\n",
    "    --decoy-contexts Nonsense \\\n",
    "    --decoy-contexts CP2Tv \\\n",
    "    --decoy-contexts CP2Nonsyn \\\n",
    "    --decoy-contexts CP2Nonsense \\\n",
    "    --decoy-contexts TvNonsyn \\\n",
    "    --decoy-contexts TvNonsense \\\n",
    "    --decoy-contexts CP2TVNonsense \\\n",
    "    --output-dir /Poppy/mfedarko/sftests/tutorial-output/p15-fdr-info"
   ]
  },
  {
   "cell_type": "markdown",
   "id": "02706f7e",
   "metadata": {},
   "source": [
    "Let's check on the TSV files that got written to the output directory. We should see one file for every decoy context, indicating the FDR estimates for each target contig for this context; and one lone \"number of mutations per Mb\" file, indicating the number of mutations per megabase for each target contig.\n",
    "\n",
    "In general, we can plot these as FDR curves by using the FDR estimates as x-axis values and the \"number of mutations per Mb\" values as y-axis values."
   ]
  },
  {
   "cell_type": "code",
   "execution_count": 8,
   "id": "24598a71",
   "metadata": {},
   "outputs": [
    {
     "name": "stdout",
     "output_type": "stream",
     "text": [
      "fdr-CP2Nonsense.tsv    fdr-CP2Tv.tsv\t fdr-TvNonsense.tsv\r\n",
      "fdr-CP2Nonsyn.tsv      fdr-Full.tsv\t fdr-TvNonsyn.tsv\r\n",
      "fdr-CP2.tsv\t       fdr-Nonsense.tsv  fdr-Tv.tsv\r\n",
      "fdr-CP2TvNonsense.tsv  fdr-Nonsyn.tsv\t num-mutations-per-mb.tsv\r\n"
     ]
    }
   ],
   "source": [
    "!ls /Poppy/mfedarko/sftests/tutorial-output/p15-fdr-info/"
   ]
  },
  {
   "cell_type": "markdown",
   "id": "e597e9bd",
   "metadata": {},
   "source": [
    "### 2.6. Plotting FDR curves\n",
    "\n",
    "**[This notebook](https://nbviewer.org/github/fedarko/strainFlye/blob/main/docs/PlottingFDRCurves.ipynb)** demonstrates how we can plot some or all of these FDR estimates for our target contigs."
   ]
  },
  {
   "cell_type": "markdown",
   "id": "83dbee72",
   "metadata": {},
   "source": [
    "### 2.7. Fixing mutation calls' FDRs to an upper limit of $1\\%$\n",
    "\n",
    "FDR estimates are nice, but the main thing we want is the ability to _fix_ these FDRs for each target contig's mutation calls to a specified upper limit.\n",
    "\n",
    "Since we already have FDR curves showing how, as $p$ varies, the estimated FDR for each target contig varies, fixing the estimated FDR to an upper limit $F$ amounts to choosing a value of $p$ that yields a FDR ≤ $F$. The `strainFlye fdr fix` command takes care of this for us."
   ]
  },
  {
   "cell_type": "code",
   "execution_count": 64,
   "id": "8c92390b",
   "metadata": {
    "scrolled": false
   },
   "outputs": [
    {
     "name": "stdout",
     "output_type": "stream",
     "text": [
      "Usage: strainFlye fdr fix [OPTIONS]\r\n",
      "\r\n",
      "  Fix contigs' naïve mutation calls' FDRs to an upper limit.\r\n",
      "\r\n",
      "  This takes as input the estimated FDRs from \"strainFlye fdr estimate\" (if\r\n",
      "  you used multiple decoy contexts, then you will need to choose which set of\r\n",
      "  FDR estimates to use here) to guide us on how to fix the FDR for each\r\n",
      "  contig. Note that mutations that passed the \"high\" p or r threshold\r\n",
      "  specified for \"strainFlye fdr estimate\", and thus were not used for FDR\r\n",
      "  estimation, will all be included in the output BCF file from this command;\r\n",
      "  these mutations are considered \"indisputable.\"\r\n",
      "\r\n",
      "  We include indisputable mutations from the decoy contig and from all target\r\n",
      "  contigs our output BCF file. We will only consider including non-\r\n",
      "  indisputable mutations from the target contigs: the decision of which non-\r\n",
      "  indisputable mutations will be included is based on the lowest p or r\r\n",
      "  parameter for a target contig that yields an estimated FDR ≤ the fixed FDR\r\n",
      "  given here.\r\n",
      "\r\n",
      "Options:\r\n",
      "  -b, --bcf PATH            Indexed BCF file describing naïvely called p- or\r\n",
      "                            r-mutations.  [required]\r\n",
      "  -fi, --fdr-info FILE      One of the estimated FDR TSV files produced by\r\n",
      "                            \"strainFlye fdr estimate\".  [required]\r\n",
      "  --fdr FLOAT RANGE         False discovery rate at which identified mutations\r\n",
      "                            will be fixed. This is interpreted as a\r\n",
      "                            percentage: the default of 1 corresponds to an FDR\r\n",
      "                            of 1%. No upper limit is imposed, since estimated\r\n",
      "                            FDRs can technically exceed 100%.  [default: 1;\r\n",
      "                            x>0]\r\n",
      "  -o, --output-bcf FILE     Filepath to which an output indexed BCF file\r\n",
      "                            (describing the called mutations at the optimal p\r\n",
      "                            or r value for each contig, along with any\r\n",
      "                            \"indisputable\" mutations relative to the --high-p\r\n",
      "                            or --high-r parameter used for strainFlye fdr\r\n",
      "                            estimate) will be written.  [required]\r\n",
      "  --verbose / --no-verbose  Display extra details for each contig while\r\n",
      "                            writing the filtered BCF.  [default: no-verbose]\r\n",
      "  -h, --help                Show this message and exit.\r\n"
     ]
    }
   ],
   "source": [
    "!strainFlye fdr fix"
   ]
  },
  {
   "cell_type": "code",
   "execution_count": 30,
   "id": "4a0e7a87",
   "metadata": {},
   "outputs": [
    {
     "name": "stdout",
     "output_type": "stream",
     "text": [
      "--------\n",
      "strainFlye fdr fix @ 0.00 sec: Starting...\n",
      "Input BCF file: /Poppy/mfedarko/sftests/tutorial-output/call-p15/naive-calls.bcf\n",
      "Input FDR estimate file: /Poppy/mfedarko/sftests/tutorial-output/p15-fdr-info.tsv\n",
      "Input FDR to fix mutation calls at: 1.0\n",
      "Verbose?: No\n",
      "Output BCF file with mutation calls at the fixed FDR: /Poppy/mfedarko/sftests/tutorial-output/p15-fdr1pct.bcf\n",
      "--------\n",
      "strainFlye fdr fix @ 0.00 sec: Loading and checking BCF and TSV files...\n",
      "strainFlye fdr fix @ 14.93 sec: Looks good so far; decoy contig seems to be edge_6104.\n",
      "strainFlye fdr fix @ 14.93 sec: Looks like the cutoff for \"indisputable\" mutations was p = 500.\n",
      "strainFlye fdr fix @ 14.93 sec: All mutations passing this cutoff will be included in the output BCF file.\n",
      "--------\n",
      "strainFlye fdr fix @ 14.93 sec: Based on the FDR information, finding optimal values of p for each contig...\n",
      "strainFlye fdr fix @ 14.95 sec: Done.\n",
      "strainFlye fdr fix @ 14.95 sec: For 155 / 467 contigs, there exist values of p (at least, considering the range from p = 15 to p = 499) that yield estimated FDRs ≤ 1.0%.\n",
      "strainFlye fdr fix @ 14.95 sec: These values range from p = 42 (edge_1300) to p = 496 (edge_58801).\n",
      "strainFlye fdr fix @ 14.95 sec: The mean of these values is p = 220.91.\n",
      "--------\n",
      "strainFlye fdr fix @ 14.95 sec: Writing a filtered BCF file (to a temporary location, for now) including both (1) indisputable mutations from all contigs and (2) non-indisputable mutations from the target contigs that result in a FDR ≤ 1.0%...\n",
      "strainFlye fdr fix @ 30.59 sec: Done.\n",
      "--------\n",
      "strainFlye fdr fix @ 30.59 sec: Updating the filtered BCF file's header to indicate that FDR fixing was done...\n",
      "strainFlye fdr fix @ 34.12 sec: Done.\n",
      "--------\n",
      "strainFlye fdr fix @ 34.12 sec: Indexing the BCF file...\n",
      "strainFlye fdr fix @ 35.04 sec: Done indexing the BCF file.\n",
      "--------\n",
      "strainFlye fdr fix @ 35.05 sec: Done.\n"
     ]
    }
   ],
   "source": [
    "!strainFlye fdr fix \\\n",
    "    --bcf /Poppy/mfedarko/sftests/tutorial-output/call-p15/naive-calls.bcf \\\n",
    "    --fdr-info /Poppy/mfedarko/sftests/tutorial-output/p15-fdr-info.tsv \\\n",
    "    --fdr 1 \\\n",
    "    --output-bcf /Poppy/mfedarko/sftests/tutorial-output/p15-fdr1pct.bcf"
   ]
  },
  {
   "cell_type": "markdown",
   "id": "e278b5d1",
   "metadata": {},
   "source": [
    "It took us a few steps, but we have now generated a file (`p15-fdr1pct.bcf`) of $p$-mutation calls at a fixed (estimated) FDR of 1%.\n",
    "\n",
    "Although our methodology has a few limitations (e.g. we don't support calling multi-allelic mutations yet), this BCF file can be used downstream for many types of analyses. In the next sections of the tutorial we'll demonstrate the additional commands supported by strainFlye, most of which make use of these mutation calls in some way."
   ]
  },
  {
   "cell_type": "markdown",
   "id": "68353631",
   "metadata": {},
   "source": [
    "## 3. Identifying hotspots and coldspots\n",
    "\n",
    "So, now we can get to the fun part!\n",
    "\n",
    "Given our called mutations, we may be interested in analyzing their locations in the contigs. Are there any particular regions, for example, where there are surprisingly many mutations? Are there any long regions where there are, surprisingly, no mutations?\n",
    "\n",
    "We've kept strainFlye's functionality for identifying these types of regions fairly minimal at the moment. Here we'll demonstrate identifying basic hotspots and coldspots using `strainFlye spot`'s commands."
   ]
  },
  {
   "cell_type": "code",
   "execution_count": 31,
   "id": "cf5923a4",
   "metadata": {},
   "outputs": [
    {
     "name": "stdout",
     "output_type": "stream",
     "text": [
      "Usage: strainFlye spot [OPTIONS] COMMAND [ARGS]...\r\n",
      "\r\n",
      "  [+] Identify putative mutational hotspots or coldspots in contigs.\r\n",
      "\r\n",
      "  Many methods exist for identifying these sorts of hotspots or coldspots; so,\r\n",
      "  strainFlye's implementations of these methods are intended mostly as a quick\r\n",
      "  proof-of-concept for replicating the results shown in our paper, and are not\r\n",
      "  extremely robust quite yet.\r\n",
      "\r\n",
      "Options:\r\n",
      "  -h, --help  Show this message and exit.\r\n",
      "\r\n",
      "Commands:\r\n",
      "  hot-features  Identify hotspot features (for example, genes).\r\n",
      "  cold-gaps     Identify long coldspot \"gaps\" without any mutations.\r\n"
     ]
    }
   ],
   "source": [
    "!strainFlye spot"
   ]
  },
  {
   "cell_type": "markdown",
   "id": "a2b8f4b9",
   "metadata": {},
   "source": [
    "### 3.1. Identifying hotspot features"
   ]
  },
  {
   "cell_type": "code",
   "execution_count": 32,
   "id": "d78739dd",
   "metadata": {},
   "outputs": [
    {
     "name": "stdout",
     "output_type": "stream",
     "text": [
      "Usage: strainFlye spot hot-features [OPTIONS]\r\n",
      "\r\n",
      "  Identify hotspot features (for example, genes).\r\n",
      "\r\n",
      "  By \"feature\", we refer to a single continuous region within a contig, as\r\n",
      "  described in the file given for --features. These regions could describe\r\n",
      "  anything: predicted protein-coding genes, introns or exons, intergenic\r\n",
      "  regions of interest, etc. For now, we treat each feature independently (e.g.\r\n",
      "  we don't lump together exons from the same \"Parent\" gene; each feature is\r\n",
      "  considered separately as a potential \"hotspot\").\r\n",
      "\r\n",
      "  You can configure whether or not we classify a feature as a hotspot by\r\n",
      "  adjusting the --min-num-mutations and --min-perc-mutations parameters; at\r\n",
      "  least one of these parameters must be specified. If both parameters are\r\n",
      "  specified, then both checks (number of mutations in a feature, and\r\n",
      "  percentage of mutations in a feature) will need to pass in order for us to\r\n",
      "  label a feature as a hotspot.\r\n",
      "\r\n",
      "Options:\r\n",
      "  -b, --bcf PATH                  Indexed BCF file describing single-\r\n",
      "                                  nucleotide mutations in a set of contigs.\r\n",
      "                                  [required]\r\n",
      "  -f, --features PATH             Generic Feature Format version 3 (GFF3) file\r\n",
      "                                  describing \"features\" (e.g. predicted\r\n",
      "                                  protein-coding genes) in the contigs. Not\r\n",
      "                                  all contigs in the BCF file need to have\r\n",
      "                                  associated features; however, all contigs in\r\n",
      "                                  the GFF3 file should at least be mentioned\r\n",
      "                                  in the BCF file's header.  [required]\r\n",
      "  -mn, --min-num-mutations INTEGER RANGE\r\n",
      "                                  Label a feature as a \"hotspot\" if it\r\n",
      "                                  contains at least this many mutations.\r\n",
      "                                  [default: (no check); x>0]\r\n",
      "  -mp, --min-perc-mutations FLOAT RANGE\r\n",
      "                                  Label a feature as a \"hotspot\" if its\r\n",
      "                                  percentage of mutations ((# mutations /\r\n",
      "                                  feature length) × 100) is at least this\r\n",
      "                                  value.  [default: (no check); 0<x<=100]\r\n",
      "  -o, --output-hotspots FILE      Filepath to which an output tab-separated\r\n",
      "                                  values (TSV) file describing hotspot\r\n",
      "                                  features across all contigs will be written.\r\n",
      "                                  [required]\r\n",
      "  -h, --help                      Show this message and exit.\r\n"
     ]
    }
   ],
   "source": [
    "!strainFlye spot hot-features"
   ]
  },
  {
   "cell_type": "markdown",
   "id": "eaf53d31",
   "metadata": {},
   "source": [
    "#### 3.1.1. A note about \"features\"\n",
    "\n",
    "Although we should be familiar with the FASTA and BCF input files by this point, the `-f` / `--features` input (a GFF3 file) may be surprising. strainFlye leaves the task of creating this file up to the user.\n",
    "\n",
    "Predicted genes' coordinates are probably the most obvious type of \"feature\" for which we could look for hotspots. If you don't have gene predictions for your contigs yet, [Prodigal](https://github.com/hyattpd/Prodigal) is good (and should have been installed along with strainFlye, since other parts of strainFlye make use of it internally). Here, we'll use it to predict protein-coding genes across all contigs.\n",
    "\n",
    "It's important to note that Prodigal does not predict eukaryotic genes (i.e. genes that are split up into introns and exons). These genes will thus not be a perfect representation of all protein-coding genes in all contigs in the dataset, since we know that this sample does contain at least some eukaryotic genomes. (However, if you use another tool for predicting eukaryotic genes that produces GFF3 output, then these should also be usable as \"features\" for this command.)"
   ]
  },
  {
   "cell_type": "code",
   "execution_count": null,
   "id": "e3a9a36c",
   "metadata": {},
   "outputs": [],
   "source": [
    "# See https://github.com/hyattpd/Prodigal/wiki/cheat-sheet for details about these options.\n",
    "#\n",
    "# Note that, for the paper, I ran Prodigal in \"normal\" mode on certain contigs individually\n",
    "# (https://github.com/fedarko/sheepgut/blob/main/inspect-seqs/prodigal.py), but here we just\n",
    "# run Prodigal in \"anonymous\" mode on all contigs at once. The results should be fairly similar.\n",
    "!prodigal \\\n",
    "    -i /Poppy/mfedarko/sftests/tutorial-output/sheepgut_contigs_atleast_1Mbp.fasta \\\n",
    "    -f gff \\\n",
    "    -c \\\n",
    "    -p meta \\\n",
    "    -o /Poppy/mfedarko/sftests/tutorial-output/prodigal_anonymous.gff"
   ]
  },
  {
   "cell_type": "markdown",
   "id": "287432e8",
   "metadata": {},
   "source": [
    "#### 3.1.2. Running the command to identify hotspot features (hotspot predicted genes)\n",
    "\n",
    "Now that we have our gene predictions, let's move see if any of them have a lot of mutations. (Based on our findings in the paper, we know that these sorts of hotspots do exist in this dataset.)\n",
    "\n",
    "`strainFlye spot hot-features` supports two types of basic thresholds for labelling a feature as a hotspot, `--min-num-mutations` and `--min-perc-mutations`. We'll use both here, and label a feature a \"hotspot\" if it meets both of the following criteria:\n",
    "\n",
    "1. It contains at least 5 mutations.\n",
    "2. At least 2% of its positions have mutations."
   ]
  },
  {
   "cell_type": "code",
   "execution_count": 2,
   "id": "901b5606",
   "metadata": {},
   "outputs": [
    {
     "name": "stdout",
     "output_type": "stream",
     "text": [
      "--------\n",
      "strainFlye spot hot-features @ 0.00 sec: Starting...\n",
      "Input BCF file: /Poppy/mfedarko/sftests/tutorial-output/p15-fdr1pct.bcf\n",
      "Input feature file: /Poppy/mfedarko/sftests/tutorial-output/prodigal_anonymous.gff\n",
      "Input minimum number of mutations needed to call a feature a hotspot: 5\n",
      "Input minimum % of mutations needed to call a feature a hotspot: 2.0\n",
      "Output file describing hotspot features: /Poppy/mfedarko/sftests/tutorial-output/hotspot-features-n5p2.tsv\n",
      "--------\n",
      "strainFlye spot hot-features @ 0.00 sec: Loading and checking the BCF file...\n",
      "strainFlye spot hot-features @ 15.32 sec: Looks good so far.\n",
      "--------\n",
      "strainFlye spot hot-features @ 15.32 sec: Going through features in the GFF3 file and identifying hotspot features...\n",
      "strainFlye spot hot-features @ 121.92 sec: Identified 57,188 hotspot feature(s) across all 468 contigs in the BCF file.\n",
      "--------\n",
      "strainFlye spot hot-features @ 121.92 sec: Writing out this information to a TSV file...\n",
      "strainFlye spot hot-features @ 122.09 sec: Done.\n",
      "--------\n",
      "strainFlye spot hot-features @ 122.10 sec: Done.\n"
     ]
    }
   ],
   "source": [
    "!strainFlye spot hot-features \\\n",
    "    --bcf /Poppy/mfedarko/sftests/tutorial-output/p15-fdr1pct.bcf \\\n",
    "    --features /Poppy/mfedarko/sftests/tutorial-output/prodigal_anonymous.gff \\\n",
    "    --min-num-mutations 5 \\\n",
    "    --min-perc-mutations 2 \\\n",
    "    --output-hotspots /Poppy/mfedarko/sftests/tutorial-output/hotspot-features-n5p2.tsv"
   ]
  },
  {
   "cell_type": "markdown",
   "id": "43c5a443",
   "metadata": {},
   "source": [
    "The output of this command isn't anything special: it's a TSV file in which each row describes an identified hotspot feature. Let's load this file using `pandas.read_csv()` and get a brief sense of what it looks like:"
   ]
  },
  {
   "cell_type": "code",
   "execution_count": 5,
   "id": "e01d9791",
   "metadata": {},
   "outputs": [
    {
     "data": {
      "text/html": [
       "<div>\n",
       "<style scoped>\n",
       "    .dataframe tbody tr th:only-of-type {\n",
       "        vertical-align: middle;\n",
       "    }\n",
       "\n",
       "    .dataframe tbody tr th {\n",
       "        vertical-align: top;\n",
       "    }\n",
       "\n",
       "    .dataframe thead th {\n",
       "        text-align: right;\n",
       "    }\n",
       "</style>\n",
       "<table border=\"1\" class=\"dataframe\">\n",
       "  <thead>\n",
       "    <tr style=\"text-align: right;\">\n",
       "      <th></th>\n",
       "      <th>Contig</th>\n",
       "      <th>FeatureID</th>\n",
       "      <th>FeatureStart_1IndexedInclusive</th>\n",
       "      <th>FeatureEnd_1IndexedInclusive</th>\n",
       "      <th>NumberMutatedPositions</th>\n",
       "      <th>PercentMutatedPositions</th>\n",
       "    </tr>\n",
       "  </thead>\n",
       "  <tbody>\n",
       "    <tr>\n",
       "      <th>0</th>\n",
       "      <td>edge_8</td>\n",
       "      <td>8_765</td>\n",
       "      <td>865350</td>\n",
       "      <td>866369</td>\n",
       "      <td>32</td>\n",
       "      <td>3.14%</td>\n",
       "    </tr>\n",
       "    <tr>\n",
       "      <th>1</th>\n",
       "      <td>edge_8</td>\n",
       "      <td>8_781</td>\n",
       "      <td>873414</td>\n",
       "      <td>873626</td>\n",
       "      <td>5</td>\n",
       "      <td>2.35%</td>\n",
       "    </tr>\n",
       "    <tr>\n",
       "      <th>2</th>\n",
       "      <td>edge_8</td>\n",
       "      <td>8_787</td>\n",
       "      <td>878293</td>\n",
       "      <td>879429</td>\n",
       "      <td>48</td>\n",
       "      <td>4.22%</td>\n",
       "    </tr>\n",
       "    <tr>\n",
       "      <th>3</th>\n",
       "      <td>edge_8</td>\n",
       "      <td>8_788</td>\n",
       "      <td>879444</td>\n",
       "      <td>881552</td>\n",
       "      <td>101</td>\n",
       "      <td>4.79%</td>\n",
       "    </tr>\n",
       "    <tr>\n",
       "      <th>4</th>\n",
       "      <td>edge_8</td>\n",
       "      <td>8_789</td>\n",
       "      <td>881718</td>\n",
       "      <td>882956</td>\n",
       "      <td>42</td>\n",
       "      <td>3.39%</td>\n",
       "    </tr>\n",
       "  </tbody>\n",
       "</table>\n",
       "</div>"
      ],
      "text/plain": [
       "   Contig FeatureID  FeatureStart_1IndexedInclusive  \\\n",
       "0  edge_8     8_765                          865350   \n",
       "1  edge_8     8_781                          873414   \n",
       "2  edge_8     8_787                          878293   \n",
       "3  edge_8     8_788                          879444   \n",
       "4  edge_8     8_789                          881718   \n",
       "\n",
       "   FeatureEnd_1IndexedInclusive  NumberMutatedPositions  \\\n",
       "0                        866369                      32   \n",
       "1                        873626                       5   \n",
       "2                        879429                      48   \n",
       "3                        881552                     101   \n",
       "4                        882956                      42   \n",
       "\n",
       "  PercentMutatedPositions  \n",
       "0                   3.14%  \n",
       "1                   2.35%  \n",
       "2                   4.22%  \n",
       "3                   4.79%  \n",
       "4                   3.39%  "
      ]
     },
     "execution_count": 5,
     "metadata": {},
     "output_type": "execute_result"
    }
   ],
   "source": [
    "hotspots = pd.read_csv(\"/Poppy/mfedarko/sftests/tutorial-output/hotspot-features-n5p2.tsv\", sep=\"\\t\")\n",
    "hotspots.head()"
   ]
  },
  {
   "cell_type": "markdown",
   "id": "692b73a9",
   "metadata": {},
   "source": [
    "### 3.2. Identifying coldspot gaps\n",
    "\n",
    "Similarly, strainFlye supports the identification of basic \"coldspots\"—here, defined as long gaps without any mutations. The main parameter is the minimum length needed to define a gap as a \"coldspot.\" Let's test this out on the SheepGut dataset:"
   ]
  },
  {
   "cell_type": "code",
   "execution_count": 14,
   "id": "1cd7c1ee",
   "metadata": {},
   "outputs": [
    {
     "name": "stdout",
     "output_type": "stream",
     "text": [
      "Usage: strainFlye spot cold-gaps [OPTIONS]\r\n",
      "\r\n",
      "  Identify long coldspot \"gaps\" without any mutations.\r\n",
      "\r\n",
      "  To clarify, we define a \"gap\" of length L on a contig as a collection of\r\n",
      "  continuous positions [N, N + 1, ... N + L - 2, N + L - 1] in which no\r\n",
      "  positions are mutations (based on the input BCF file).\r\n",
      "\r\n",
      "  If the --circular flag is provided, then we can loop around the contig from\r\n",
      "  right to left; otherwise, the left and right sides of the contig are hard\r\n",
      "  boundaries. To give an example of this, consider a 9-nucleotide contig that\r\n",
      "  has mutations at positions 4 and 6:\r\n",
      "\r\n",
      "                             Mut.    Mut.\r\n",
      "                  1   2   3   4   5   6   7   8   9\r\n",
      "\r\n",
      "  If --circular is provided, then this contig has two gaps: one gap of length\r\n",
      "  1 (covering just position 5, between the two mutations), and another gap of\r\n",
      "  length 6 (starting at position 7 and looping around to position 3: [7, 8, 9,\r\n",
      "  1, 2, 3]).\r\n",
      "\r\n",
      "  If --circular is not provided, then this contig has three gaps: [1, 2, 3],\r\n",
      "  [5], and [7, 8, 9].\r\n",
      "\r\n",
      "Options:\r\n",
      "  -b, --bcf PATH                  Indexed BCF file describing single-\r\n",
      "                                  nucleotide mutations in a set of contigs.\r\n",
      "                                  [required]\r\n",
      "  -l, --min-length INTEGER RANGE  Label a gap between mutations in a contig as\r\n",
      "                                  a \"coldspot\" if the gap is at least this\r\n",
      "                                  long.  [default: 5000; x>0; required]\r\n",
      "  --circular / --no-circular      If this flag is provided, we'll assume that\r\n",
      "                                  all contigs are circular: we'll consider the\r\n",
      "                                  gap \"looping around\" from the rightmost\r\n",
      "                                  mutation in each contig to the leftmost\r\n",
      "                                  mutation in the contig as a potential\r\n",
      "                                  coldspot. Otherwise, we will assume all\r\n",
      "                                  contigs are linear.  [default: no-circular]\r\n",
      "  -o, --output-coldspots FILE     Filepath to which an output tab-separated\r\n",
      "                                  values (TSV) file describing coldspots will\r\n",
      "                                  be written.  [required]\r\n",
      "  -h, --help                      Show this message and exit.\r\n"
     ]
    }
   ],
   "source": [
    "!strainFlye spot cold-gaps"
   ]
  },
  {
   "cell_type": "code",
   "execution_count": 7,
   "id": "a221ba11",
   "metadata": {},
   "outputs": [
    {
     "name": "stdout",
     "output_type": "stream",
     "text": [
      "--------\n",
      "strainFlye spot cold-gaps @ 0.00 sec: Starting...\n",
      "Input BCF file: /Poppy/mfedarko/sftests/tutorial-output/p15-fdr1pct.bcf\n",
      "Input minimum coldspot gap length: 5000\n",
      "Check for circular coldspot gaps?: No\n",
      "Output file describing coldspot gaps: /Poppy/mfedarko/sftests/tutorial-output/coldspot-gaps-minlen5000-nocircular.tsv\n",
      "--------\n",
      "strainFlye spot cold-gaps @ 0.00 sec: Loading and checking the BCF file...\n",
      "strainFlye spot cold-gaps @ 13.76 sec: Looks good so far.\n",
      "--------\n",
      "strainFlye spot cold-gaps @ 13.76 sec: Going through contigs and identifying coldspot gaps...\n",
      "strainFlye spot cold-gaps @ 17.33 sec: Identified 15,258 coldspot gap(s) across all 468 contigs in the BCF file.\n",
      "--------\n",
      "strainFlye spot cold-gaps @ 17.33 sec: Writing out this information to a TSV file...\n",
      "strainFlye spot cold-gaps @ 17.42 sec: Done.\n",
      "--------\n",
      "strainFlye spot cold-gaps @ 17.42 sec: Done.\n"
     ]
    }
   ],
   "source": [
    "!strainFlye spot cold-gaps \\\n",
    "    --bcf /Poppy/mfedarko/sftests/tutorial-output/p15-fdr1pct.bcf \\\n",
    "    --output-coldspots /Poppy/mfedarko/sftests/tutorial-output/coldspot-gaps-minlen5000-nocircular.tsv"
   ]
  },
  {
   "cell_type": "markdown",
   "id": "8bd3a8c2",
   "metadata": {},
   "source": [
    "Again, `cold-gaps` will output a simple TSV file describing its identified coldspots:"
   ]
  },
  {
   "cell_type": "code",
   "execution_count": 9,
   "id": "a0c1feb9",
   "metadata": {},
   "outputs": [
    {
     "data": {
      "text/html": [
       "<div>\n",
       "<style scoped>\n",
       "    .dataframe tbody tr th:only-of-type {\n",
       "        vertical-align: middle;\n",
       "    }\n",
       "\n",
       "    .dataframe tbody tr th {\n",
       "        vertical-align: top;\n",
       "    }\n",
       "\n",
       "    .dataframe thead th {\n",
       "        text-align: right;\n",
       "    }\n",
       "</style>\n",
       "<table border=\"1\" class=\"dataframe\">\n",
       "  <thead>\n",
       "    <tr style=\"text-align: right;\">\n",
       "      <th></th>\n",
       "      <th>Contig</th>\n",
       "      <th>Start_1IndexedInclusive</th>\n",
       "      <th>End_1IndexedInclusive</th>\n",
       "      <th>Length</th>\n",
       "    </tr>\n",
       "  </thead>\n",
       "  <tbody>\n",
       "    <tr>\n",
       "      <th>0</th>\n",
       "      <td>edge_8</td>\n",
       "      <td>383672</td>\n",
       "      <td>681281</td>\n",
       "      <td>297610</td>\n",
       "    </tr>\n",
       "    <tr>\n",
       "      <th>1</th>\n",
       "      <td>edge_8</td>\n",
       "      <td>681283</td>\n",
       "      <td>715603</td>\n",
       "      <td>34321</td>\n",
       "    </tr>\n",
       "    <tr>\n",
       "      <th>2</th>\n",
       "      <td>edge_8</td>\n",
       "      <td>717621</td>\n",
       "      <td>865477</td>\n",
       "      <td>147857</td>\n",
       "    </tr>\n",
       "    <tr>\n",
       "      <th>3</th>\n",
       "      <td>edge_8</td>\n",
       "      <td>885778</td>\n",
       "      <td>906394</td>\n",
       "      <td>20617</td>\n",
       "    </tr>\n",
       "    <tr>\n",
       "      <th>4</th>\n",
       "      <td>edge_8</td>\n",
       "      <td>913216</td>\n",
       "      <td>920714</td>\n",
       "      <td>7499</td>\n",
       "    </tr>\n",
       "  </tbody>\n",
       "</table>\n",
       "</div>"
      ],
      "text/plain": [
       "   Contig  Start_1IndexedInclusive  End_1IndexedInclusive  Length\n",
       "0  edge_8                   383672                 681281  297610\n",
       "1  edge_8                   681283                 715603   34321\n",
       "2  edge_8                   717621                 865477  147857\n",
       "3  edge_8                   885778                 906394   20617\n",
       "4  edge_8                   913216                 920714    7499"
      ]
     },
     "execution_count": 9,
     "metadata": {},
     "output_type": "execute_result"
    }
   ],
   "source": [
    "coldspots = pd.read_csv(\"/Poppy/mfedarko/sftests/tutorial-output/coldspot-gaps-minlen5000-nocircular.tsv\", sep=\"\\t\")\n",
    "coldspots.head()"
   ]
  },
  {
   "cell_type": "markdown",
   "id": "c60dad6b",
   "metadata": {},
   "source": [
    "## 4. Phasing analyses\n",
    "\n",
    "### 4.1. Generating \"smoothed haplotypes\"\n",
    "\n",
    "Given our called mutations, we can attempt to generate haplotypes that respect these mutations using strainFlye's `smooth` module.\n",
    "\n",
    "The details and motivation for this are explained in depth in our paper. To briefly summarize, we will convert the reads aligned to each contig into \"smoothed reads,\" which only contain our called mutations with no other variations. We will then (optionally, depending on the `--virtual-reads` parameter) construct \"virtual reads\" to fill in low-coverage regions. We will then assemble these reads using [LJA](https://github.com/AntonBankevich/LJA/) to construct \"smoothed haplotypes.\""
   ]
  },
  {
   "cell_type": "code",
   "execution_count": 10,
   "id": "591b2872",
   "metadata": {},
   "outputs": [
    {
     "name": "stdout",
     "output_type": "stream",
     "text": [
      "Usage: strainFlye smooth [OPTIONS] COMMAND [ARGS]...\r\n",
      "\r\n",
      "  [+] Create and assemble smoothed and virtual reads.\r\n",
      "\r\n",
      "Options:\r\n",
      "  -h, --help  Show this message and exit.\r\n",
      "\r\n",
      "Commands:\r\n",
      "  create    Create smoothed and virtual reads for each contig.\r\n",
      "  assemble  Assemble contigs' reads using LJA.\r\n"
     ]
    }
   ],
   "source": [
    "!strainFlye smooth"
   ]
  },
  {
   "cell_type": "markdown",
   "id": "0bdadda6",
   "metadata": {},
   "source": [
    "#### 4.1.1. Create smoothed and virtual reads"
   ]
  },
  {
   "cell_type": "code",
   "execution_count": 15,
   "id": "c81a60e8",
   "metadata": {
    "scrolled": false
   },
   "outputs": [
    {
     "name": "stdout",
     "output_type": "stream",
     "text": [
      "Usage: strainFlye smooth create [OPTIONS]\r\n",
      "\r\n",
      "  Create smoothed and virtual reads for each contig.\r\n",
      "\r\n",
      "Options:\r\n",
      "  -c, --contigs PATH              FASTA file of contigs.  [required]\r\n",
      "  --bam PATH                      Sorted and indexed BAM file representing an\r\n",
      "                                  alignment of reads to contigs.  [required]\r\n",
      "  --bcf PATH                      Indexed BCF file describing single-\r\n",
      "                                  nucleotide mutations in a set of contigs.\r\n",
      "                                  [required]\r\n",
      "  -di, --diversity-indices PATH   TSV file describing the diversity indices of\r\n",
      "                                  a set of contigs, produced by one of the\r\n",
      "                                  \"strainFlye call\" commands. Only used if\r\n",
      "                                  --virtual-reads is specified. Along with\r\n",
      "                                  diversity indices, these files list contigs'\r\n",
      "                                  average coverages. If --virtual-reads is\r\n",
      "                                  specified, we will need to know contigs'\r\n",
      "                                  average coverages. So, if a diversity\r\n",
      "                                  indices file is provided here, then we can\r\n",
      "                                  avoid re-computing average coverages.\r\n",
      "                                  (Otherwise, if --virtual-reads is specified\r\n",
      "                                  but no diversity indices file is provided,\r\n",
      "                                  we'll need to compute average coverages;\r\n",
      "                                  this will take some extra time.)  [default:\r\n",
      "                                  (nothing)]\r\n",
      "  --virtual-reads / --no-virtual-reads\r\n",
      "                                  If --virtual-reads is specified, we'll\r\n",
      "                                  create virtual reads covering \"low-coverage\"\r\n",
      "                                  regions in contigs.  [default: virtual-\r\n",
      "                                  reads]\r\n",
      "  -vrp, --virtual-read-well-covered-perc FLOAT RANGE\r\n",
      "                                  Only used if --virtual-reads is specified.\r\n",
      "                                  In a contig with average coverage (based on\r\n",
      "                                  the BAM file, and only considering match +\r\n",
      "                                  mismatch counts) C, we will define a\r\n",
      "                                  position in this contig (with coverage P,\r\n",
      "                                  based only on the smoothed reads) as low-\r\n",
      "                                  coverage if ((P / C) × 100) is less than\r\n",
      "                                  this percentage.  [default: 95; 0<=x<=100;\r\n",
      "                                  required]\r\n",
      "  -vrf, --virtual-read-flank INTEGER RANGE\r\n",
      "                                  Only used if --virtual-reads is specified.\r\n",
      "                                  When we add virtual reads spanning a single\r\n",
      "                                  continuous low-coverage region, these reads\r\n",
      "                                  will start and end this many positions\r\n",
      "                                  before and after the region. (For example,\r\n",
      "                                  the default of 100 means that the virtual\r\n",
      "                                  reads created for a low-coverage region of\r\n",
      "                                  5,000 bp will all be 5,200 bp.)  [default:\r\n",
      "                                  100; x>=0; required]\r\n",
      "  -o, --output-dir DIRECTORY      Directory to which smoothed reads (and\r\n",
      "                                  virtual reads, if --virtual-reads is\r\n",
      "                                  specified) will be written. Each contig's\r\n",
      "                                  reads will be written to a gzipped FASTA\r\n",
      "                                  file in this directory named\r\n",
      "                                  [contig].fasta.gz.  [required]\r\n",
      "  --verbose / --no-verbose        Display extra details for each contig while\r\n",
      "                                  generating reads.  [default: no-verbose]\r\n",
      "  -h, --help                      Show this message and exit.\r\n"
     ]
    }
   ],
   "source": [
    "!strainFlye smooth create"
   ]
  },
  {
   "cell_type": "code",
   "execution_count": null,
   "id": "16a6e504",
   "metadata": {},
   "outputs": [],
   "source": [
    "!strainFlye smooth create \\\n",
    "    --contigs /Poppy/mfedarko/sftests/tutorial-output/sheepgut_contigs_atleast_1Mbp.fasta \\\n",
    "    --bam /Poppy/mfedarko/sheepgut/main-workflow/output/fully-filtered-and-sorted-aln.bam \\\n",
    "    --bcf /Poppy/mfedarko/sftests/tutorial-output/p15-fdr1pct.bcf \\\n",
    "    --diversity-indices /Poppy/mfedarko/sftests/tutorial-output/call-p15/diversity-indices.tsv \\\n",
    "    --output-dir /Poppy/mfedarko/sftests/tutorial-output/smooth/reads"
   ]
  },
  {
   "cell_type": "markdown",
   "id": "24302a1b",
   "metadata": {},
   "source": [
    "#### 4.1.2. Assemble these reads using LJA\n",
    "\n",
    "This step assumes that we have already installed [LJA](https://github.com/AntonBankevich/LJA/), in particular the `simple_ec` branch of it. Please see [LJA's manual](https://github.com/AntonBankevich/LJA/blob/main/docs/lja_manual.md) for installation instructions.\n",
    "\n",
    "I have installed LJA into a specific location on our cluster. So that strainFlye can easily run LJA for each contig's reads files, we pass the location of LJA's binary executable to strainFlye below using the `--lja-bin` parameter."
   ]
  },
  {
   "cell_type": "code",
   "execution_count": 14,
   "id": "89064151",
   "metadata": {},
   "outputs": [
    {
     "name": "stdout",
     "output_type": "stream",
     "text": [
      "Usage: strainFlye smooth assemble [OPTIONS]\r\n",
      "\r\n",
      "  Assemble contigs' reads using LJA.\r\n",
      "\r\n",
      "  Please note that this command relies on the \"simple_ec\" branch of LJA being\r\n",
      "  installed on your system. See strainFlye's README (and/or LJA's manual) for\r\n",
      "  details on installing LJA.\r\n",
      "\r\n",
      "Options:\r\n",
      "  -r, --reads-dir DIRECTORY   Directory produced by \"strainFlye smooth create\"\r\n",
      "                              containing smoothed (and optionally virtual)\r\n",
      "                              reads. We will use LJA to assemble each\r\n",
      "                              *.fasta.gz file in this directory (representing\r\n",
      "                              reads from different contigs) independently.\r\n",
      "                              [required]\r\n",
      "  -p, --lja-params TEXT       Additional parameters to pass to LJA, besides\r\n",
      "                              the --reads and --output-dir parameters. To\r\n",
      "                              explain our defaults: the --simpleec flag is\r\n",
      "                              currently only available on the simple_ec branch\r\n",
      "                              of LJA. This flag tells LJA to perform \"simple\"\r\n",
      "                              error correction by removing all edges in the de\r\n",
      "                              Bruijn graph with k-mer coverage less than\r\n",
      "                              --Cov-threshold (10), as well as reads passing\r\n",
      "                              through these edges. This \"simple\" error\r\n",
      "                              correction is done instead of running the\r\n",
      "                              default LJA error correction module, mowerDBG.\r\n",
      "                              Please note that we do not perform any\r\n",
      "                              validation on this string before passing it to\r\n",
      "                              LJA (so if you are allowing users to run\r\n",
      "                              strainFlye through a web server, be careful\r\n",
      "                              about shell injection).  [default: --simpleec\r\n",
      "                              --Cov-threshold 10]\r\n",
      "  -b, --lja-bin FILE          Location of LJA's \"lja\" binary file, which can\r\n",
      "                              be used to run LJA. This should be located in\r\n",
      "                              the bin/ folder constructed when you compiled\r\n",
      "                              LJA. If this is not provided, we will check to\r\n",
      "                              see if LJA is available in your $PATH.\r\n",
      "                              [default: (Look for LJA's bin in the $PATH\r\n",
      "                              environment variable)]\r\n",
      "  -o, --output-dir DIRECTORY  Directory to which output LJA assemblies (one\r\n",
      "                              top-level folder per *.fasta.gz file in the\r\n",
      "                              input --reads-dir) will be written.  [required]\r\n",
      "  --verbose / --no-verbose    Display extra details for each contig during the\r\n",
      "                              assembly process.  [default: no-verbose]\r\n",
      "  -h, --help                  Show this message and exit.\r\n"
     ]
    }
   ],
   "source": [
    "!strainFlye smooth assemble"
   ]
  },
  {
   "cell_type": "code",
   "execution_count": null,
   "id": "7424ef09",
   "metadata": {},
   "outputs": [],
   "source": [
    "!strainFlye smooth assemble \\\n",
    "    --reads-dir /Poppy/mfedarko/sftests/tutorial-output/smooth/reads \\\n",
    "    --lja-bin /home/mfedarko/software/LJA-branch/bin/lja \\\n",
    "    --output-dir /Poppy/mfedarko/sftests/tutorial-output/smooth/assemblies"
   ]
  },
  {
   "cell_type": "markdown",
   "id": "cecfb60a",
   "metadata": {},
   "source": [
    "### 4.2. Constructing link graphs\n",
    "\n",
    "(TODO)"
   ]
  }
 ],
 "metadata": {
  "kernelspec": {
   "display_name": "Python 3 (ipykernel)",
   "language": "python",
   "name": "python3"
  },
  "language_info": {
   "codemirror_mode": {
    "name": "ipython",
    "version": 3
   },
   "file_extension": ".py",
   "mimetype": "text/x-python",
   "name": "python",
   "nbconvert_exporter": "python",
   "pygments_lexer": "ipython3",
   "version": "3.7.11"
  }
 },
 "nbformat": 4,
 "nbformat_minor": 5
}
