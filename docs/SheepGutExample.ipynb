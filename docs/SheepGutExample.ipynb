{
 "cells": [
  {
   "cell_type": "markdown",
   "id": "349b04fa",
   "metadata": {},
   "source": [
    "# Tutorial: applying strainFlye to a subset of the SheepGut dataset\n",
    "\n",
    "This tutorial walk you through some of the analyses that strainFlye can perform.\n",
    "\n",
    "Here we will be using the same SheepGut dataset that is used in our paper, but feel free to follow along with another dataset.\n",
    "\n",
    "The pipeline takes as input two primary types of data:\n",
    "\n",
    "1. A __set of reads__ (in FASTA / FASTQ format) generated using PacBio HiFi sequencing.\n",
    "\n",
    "2. An __assembly graph__ (in GFA 1 format) produced by running metaFlye (or another assembler) on these reads.\n",
    "\n",
    "Please see the paper's \"Data access\" section for more details about acquiring both of these types of data for the SheepGut dataset."
   ]
  },
  {
   "cell_type": "markdown",
   "id": "dd0e5fc0",
   "metadata": {},
   "source": [
    "## The various commands available through strainFlye"
   ]
  },
  {
   "cell_type": "code",
   "execution_count": 13,
   "id": "12d6ff7f",
   "metadata": {},
   "outputs": [
    {
     "name": "stdout",
     "output_type": "stream",
     "text": [
      "Usage: strainFlye [OPTIONS] COMMAND [ARGS]...\r\n",
      "\r\n",
      "  Pipeline for the analysis of rare mutations in metagenomes.\r\n",
      "\r\n",
      "Options:\r\n",
      "  -h, --help  Show this message and exit.\r\n",
      "\r\n",
      "Commands:\r\n",
      "  align       Aligns reads to contigs, then filters this alignment.\r\n",
      "  call        Methods for naïve mutation calling.\r\n",
      "  diversity   Computes the diversity index for MAGs.\r\n",
      "  spots       Identifies hot- and/or cold-spots in MAGs.\r\n",
      "  covskew     Visualizes MAG coverage and GC skew.\r\n",
      "  matrix      Computes mutation matrices of a MAG.\r\n",
      "  link-graph  Constructs the link graph structure for a MAG.\r\n",
      "  smooth      Generates smoothed haplotypes.\r\n",
      "  utils       Various utility commands provided with strainFlye.\r\n"
     ]
    }
   ],
   "source": [
    "!strainFlye"
   ]
  },
  {
   "cell_type": "markdown",
   "id": "ee835ce7",
   "metadata": {},
   "source": [
    "## 0. Convert the assembly graph to a FASTA file of contigs\n",
    "\n",
    "**You can skip this step if:** you already have a FASTA file exactly matching the sequences of the segments in your GFA file.\n",
    "\n",
    "Our assembly graph (the GFA file) contains the sequences of the contigs that we will use in many downstream analyses, but it will be helpful to have a FASTA file that just describes these contigs' sequences (independent of the assembly graph topology).\n",
    "\n",
    "There are some [bash one-liners](https://www.biostars.org/p/169516/#169530) you can use to convert a GFA file to a FASTA file, but strainFlye also provides a utility command (`strainFlye utils gfa-to-fasta`) to do this for you. We'll use this here. (Our solution may be a bit slower than a bash one-liner, but it performs some useful sanity checking on the GFA file.)"
   ]
  },
  {
   "cell_type": "code",
   "execution_count": 10,
   "id": "26d90dab",
   "metadata": {},
   "outputs": [
    {
     "name": "stdout",
     "output_type": "stream",
     "text": [
      "--------\n",
      "strainFlye utils gfa-to-fasta @ 0.00 sec: Starting...\n",
      "Input GFA file: /Poppy/mfedarko/misc-data/sheepgut_flye_big_2.8_graph.gfa\n",
      "Output FASTA file: /Poppy/mfedarko/sftests/tutorial-output/sheepgut_contigs.fasta\n",
      "--------\n",
      "strainFlye utils gfa-to-fasta @ 11.77 sec: Done.\n",
      "Output FASTA file contains 78,793 sequences.\n"
     ]
    }
   ],
   "source": [
    "!strainFlye utils gfa-to-fasta \\\n",
    "    --graph /Poppy/mfedarko/misc-data/sheepgut_flye_big_2.8_graph.gfa \\\n",
    "    --output-fasta /Poppy/mfedarko/sftests/tutorial-output/sheepgut_contigs.fasta"
   ]
  },
  {
   "cell_type": "markdown",
   "id": "6ef3ba35",
   "metadata": {},
   "source": [
    "## 1. Performing alignment\n",
    "\n",
    "**You can skip this step if:** you already have a BAM file representing an alignment of reads to contigs, and this BAM file does not contain secondary alignments / partially-mapped reads / overlapping supplementary alignments (these all may cause problems in downstream analyses).\n",
    "\n",
    "We'll need to align reads back to these contigs. The resulting alignment will be used in pretty much all downstream steps, so it's important to make sure that it is of good quality.\n",
    "\n",
    "The `strainFlye align` command produces a BAM file corresponding to such an alignment. \n",
    "\n",
    "Note that this command, in particular, may take a while to run. Sequence alignment is computationally expensive! On our cluster, `strainFlye align` ran on the full SheepGut dataset in 62,941.21 seconds (aka about 17.5 hours)."
   ]
  },
  {
   "cell_type": "code",
   "execution_count": 11,
   "id": "15c619f2",
   "metadata": {
    "scrolled": true
   },
   "outputs": [
    {
     "name": "stdout",
     "output_type": "stream",
     "text": [
      "Usage: strainFlye align [OPTIONS] READS...\r\n",
      "\r\n",
      "  Aligns reads to contigs, then filters this alignment.\r\n",
      "\r\n",
      "  Files of reads should be in the FASTA or FASTQ formats; GZIP'd files are\r\n",
      "  allowed.\r\n",
      "\r\n",
      "  This command involves multiple steps, including:\r\n",
      "\r\n",
      "    1) Align reads to contigs (using minimap2) to generate a SAM file\r\n",
      "    2) Convert this SAM file to a sorted and indexed BAM file\r\n",
      "    3) Filter overlapping supplementary alignments within this BAM file\r\n",
      "    4) Filter partially-mapped reads within this BAM file\r\n",
      "\r\n",
      "  Note that we only sort the alignment file once, although we do re-index it\r\n",
      "  after the two filtering steps. This decision is motivated by\r\n",
      "  https://www.biostars.org/p/131333/#131335.\r\n",
      "\r\n",
      "Options:\r\n",
      "  -c, --contigs PATH          FASTA file of contigs to which reads will be\r\n",
      "                              aligned.  [required]\r\n",
      "  -g, --graph PATH            GFA 1-formatted file describing an assembly\r\n",
      "                              graph of the contigs. This is used in the\r\n",
      "                              \"filter partially-mapped reads\" step to make the\r\n",
      "                              filter less strict for reads mapped to adjacent\r\n",
      "                              contigs in the graph. This isn't required; if it\r\n",
      "                              isn't passed, adjacent contigs will not be\r\n",
      "                              considered in this filter.  [default: (no\r\n",
      "                              graph)]\r\n",
      "  -o, --output-dir DIRECTORY  Directory to which an output BAM file and BAM\r\n",
      "                              index file will be written. Some temporary files\r\n",
      "                              may also be written to this directory.\r\n",
      "                              [required]\r\n",
      "  --verbose / --no-verbose    Display extra details for each contig during\r\n",
      "                              alignment filtering.  [default: no-verbose]\r\n",
      "  -h, --help                  Show this message and exit.\r\n"
     ]
    }
   ],
   "source": [
    "!strainFlye align \\\n",
    "    # We can use the FASTA file we just generated above.\n",
    "    --contigs /Poppy/mfedarko/sftests/tutorial-output/sheepgut_contigs.fasta \\\n",
    "    --graph /Poppy/mfedarko/misc-data/sheepgut_flye_big_2.8_graph.gfa \\\n",
    "    --output-dir /Poppy/mfedarko/sftests/tutorial-output/alignment \\\n",
    "    # Reads file(s) are specified here, after all of the other parameters:\n",
    "    /Poppy/mkolmogo/sheep_meta/data/sheep_poop_CCS_dedup.fastq.gz \\\n",
    "    /Poppy/mkolmogo/sheep_meta/data/ccs_sequel_II/*.fasta.qz"
   ]
  },
  {
   "cell_type": "markdown",
   "id": "c7c58de0",
   "metadata": {},
   "source": [
    "This generates a BAM file (`final.bam`) and BAM index file (`final.bam.bai`) in the specified output directory.\n",
    "\n",
    "We can use this BAM file for many analyses downstream—the first of these will be mutation calling."
   ]
  },
  {
   "cell_type": "markdown",
   "id": "aa6400ea",
   "metadata": {},
   "source": [
    "## 2. Perform naïve mutation calling\n",
    "\n",
    "**You can skip this step if:** you already have a VCF file indicating single-nucleotide variant calls in these contigs.\n",
    "\n",
    "The analyses downstream of this step take as input a set of identified single-nucleotide mutations (or, if you prefer to use different terminology, \"called variants\", \"called SNVs\", ...) in which we have some confidence. Here we call mutations and estimate their FDR using the target-decoy approach, as described in our paper.\n",
    "\n",
    "strainFlye supports calling two basic types of mutations: $p$-mutations and $r$-mutations. The docs explain the difference between these two types best:"
   ]
  },
  {
   "cell_type": "code",
   "execution_count": 17,
   "id": "5755853e",
   "metadata": {},
   "outputs": [
    {
     "name": "stdout",
     "output_type": "stream",
     "text": [
      "Usage: strainFlye call [OPTIONS] COMMAND [ARGS]...\r\n",
      "\r\n",
      "  Methods for naïve mutation calling.\r\n",
      "\r\n",
      "  Consider a position \"pos\" in a contig. A given read with a (mis)match\r\n",
      "  operation at \"pos\" must have one of four nucleotides (A, C, G, T) aligned to\r\n",
      "  pos. We represent these nucleotides' counts at pos as follows:\r\n",
      "\r\n",
      "      N1 = # reads of the most-common aligned nucleotide at pos,\r\n",
      "      N2 = # reads of the second-most-common aligned nucleotide at pos,\r\n",
      "      N3 = # reads of the third-most-common aligned nucleotide at pos,\r\n",
      "      N4 = # reads of the fourth-most-common aligned nucleotide at pos.\r\n",
      "\r\n",
      "  (We break ties arbitrarily.)\r\n",
      "\r\n",
      "  strainFlye supports two types of naïve mutation calling based on these\r\n",
      "  counts: p-mutations and r-mutations. These are described below.\r\n",
      "\r\n",
      "  p-mutations (naïve percentage-based mutation calling)\r\n",
      "  -----------------------------------------------------\r\n",
      "\r\n",
      "  This takes as input some percentage p in the range (0%, 50%]. Define\r\n",
      "  freq(pos) = N2 / (N1 + N2 + N3 + N4). This value, constrained to the range\r\n",
      "  [0%, 50%], is an estimate of the mutation frequency of this position. We\r\n",
      "  classify pos as a p-mutation if freq(pos) ≥ p, AND if N2 ≥ the --min-alt-pos\r\n",
      "  parameter (an integer representing a minimum number of reads that must\r\n",
      "  support the alternate nucleotide).\r\n",
      "\r\n",
      "  r-mutations (naïve read-count-based mutation calling)\r\n",
      "  -----------------------------------------------------\r\n",
      "\r\n",
      "  This takes as input some integer r > 0. We classify pos as an r-mutation if\r\n",
      "  N2 ≥ r.\r\n",
      "\r\n",
      "Options:\r\n",
      "  -h, --help  Show this message and exit.\r\n",
      "\r\n",
      "Commands:\r\n",
      "  p-mutation  Performs naïve percentage-based mutation (p-mutation) calling.\r\n",
      "  r-mutation  Performs naïve read-count-based mutation (r-mutation) calling.\r\n"
     ]
    }
   ],
   "source": [
    "!strainFlye call"
   ]
  },
  {
   "cell_type": "markdown",
   "id": "c58ac637",
   "metadata": {},
   "source": [
    "Notably, we call mutations for multiple values of $p$ (or $r$) at once. We do this in order to simplify the creation of FDR curves based on varying $p$ (or $r$).\n",
    "\n",
    "### $p$-mutation calling for $p \\in [0.15\\%, 2\\%]$\n",
    "\n",
    "This matches what we used for Figure 2 in the paper.\n",
    "\n",
    "We note that the `--min-p`, `--max-p`, and `--delta-p` values are all scaled up by 100. So `--min-p 15` means \"set the minimum value of $p$ to 15 / 100 = 0.15%.\""
   ]
  },
  {
   "cell_type": "code",
   "execution_count": 16,
   "id": "834869e8",
   "metadata": {
    "scrolled": true
   },
   "outputs": [
    {
     "name": "stdout",
     "output_type": "stream",
     "text": [
      "Usage: strainflye call p-mutation [OPTIONS]\r\n",
      "\r\n",
      "  Performs naïve percentage-based mutation (p-mutation) calling.\r\n",
      "\r\n",
      "  We consider multiple values of the p parameter (defined by the min, max, and\r\n",
      "  delta p options), and our output VCF file represents each of the resulting\r\n",
      "  values of p tested as a separate FILTER.\r\n",
      "\r\n",
      "  Note that --min-p, --max-p, and --delta-p must all be integers -- these will\r\n",
      "  be converted to floating-point percentages later, but for now keeping them\r\n",
      "  as integers makes the computation of ranges of values of p simpler.\r\n",
      "\r\n",
      "Options:\r\n",
      "  -c, --contigs PATH           FASTA file of contigs in which to naïvely call\r\n",
      "                               mutations.  [required]\r\n",
      "  -b, --bam PATH               BAM file representing an alignment of reads to\r\n",
      "                               contigs.  [required]\r\n",
      "  --min-p INTEGER RANGE        Minimum value of p for which to call\r\n",
      "                               p-mutations. This is scaled up by 100 (i.e. the\r\n",
      "                               default of 50 corresponds to 50 / 100 = 0.5%)\r\n",
      "                               in order to bypass floating-point precision\r\n",
      "                               issues.  [default: 50; 0<x<5000]\r\n",
      "  --max-p INTEGER RANGE        Maximum value of p for which to call\r\n",
      "                               p-mutations. Scaled up by 100 (the default,\r\n",
      "                               200, corresponds to 200 / 100 = 2%).  [default:\r\n",
      "                               200; 0<x<=5000]\r\n",
      "  --delta-p INTEGER RANGE      We'll consider all values of p between --min-p\r\n",
      "                               and --max-p, increasing in increments of\r\n",
      "                               --delta-p. Scaled up by 100 (the default, 1,\r\n",
      "                               corresponds to 1 / 100 = 0.01%).  [default: 1;\r\n",
      "                               0<x<5000]\r\n",
      "  --min-alt-pos INTEGER RANGE  Additional parameter: the alternate nucleotide\r\n",
      "                               for a p-mutation must be supported by at least\r\n",
      "                               this many reads.  [default: 2; x>=1]\r\n",
      "  -o, --output-vcf FILE        Filepath to which an output VCF file\r\n",
      "                               (describing the called mutations) will be\r\n",
      "                               written.  [required]\r\n",
      "  --verbose / --no-verbose     Display extra details for each contig.\r\n",
      "                               [default: no-verbose]\r\n",
      "  -h, --help                   Show this message and exit.\r\n"
     ]
    }
   ],
   "source": [
    "!strainflye call p-mutation \\\n",
    "    --contigs /Poppy/mfedarko/sftests/tutorial-output/sheepgut_contigs.fasta \\\n",
    "    --bam /Poppy/mfedarko/sftests/tutorial-output/alignment/final.bam \\\n",
    "    --min-p 15 \\\n",
    "    --max-p 200 \\\n",
    "    --delta-p 1 \\\n",
    "    --output-vcf /Poppy/mfedarko/sftests/tutorial-output/sheepgut_pmuts_0.15to2.vcf"
   ]
  },
  {
   "cell_type": "markdown",
   "id": "a4afdd66",
   "metadata": {},
   "source": [
    "### $r$-mutation calling for $r \\in [5, 100]$\n",
    "\n",
    "While we're at it, we'll compare these with the p-mutations we got earlier."
   ]
  },
  {
   "cell_type": "code",
   "execution_count": null,
   "id": "37bd0100",
   "metadata": {},
   "outputs": [],
   "source": [
    "!strainflye call r-mutation \\\n",
    "    --contigs /Poppy/mfedarko/sftests/tutorial-output/sheepgut_contigs.fasta \\\n",
    "    --bam /Poppy/mfedarko/sftests/tutorial-output/alignment/final.bam \\\n",
    "    --min-r 1 \\\n",
    "    --max-p 100 \\\n",
    "    --delta-r 1 \\\n",
    "    --output-vcf /Poppy/mfedarko/sftests/tutorial-output/sheepgut_rmuts_1to100.vcf"
   ]
  }
 ],
 "metadata": {
  "kernelspec": {
   "display_name": "Python 3 (ipykernel)",
   "language": "python",
   "name": "python3"
  },
  "language_info": {
   "codemirror_mode": {
    "name": "ipython",
    "version": 3
   },
   "file_extension": ".py",
   "mimetype": "text/x-python",
   "name": "python",
   "nbconvert_exporter": "python",
   "pygments_lexer": "ipython3",
   "version": "3.7.11"
  }
 },
 "nbformat": 4,
 "nbformat_minor": 5
}
